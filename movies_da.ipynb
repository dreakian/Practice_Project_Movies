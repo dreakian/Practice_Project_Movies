{
 "cells": [
  {
   "cell_type": "code",
   "execution_count": 1,
   "id": "107774e5",
   "metadata": {},
   "outputs": [],
   "source": [
    "import pandas as pd\n",
    "import numpy as np\n",
    "import seaborn as sns"
   ]
  },
  {
   "cell_type": "code",
   "execution_count": 2,
   "id": "5237bd87",
   "metadata": {
    "scrolled": true
   },
   "outputs": [
    {
     "name": "stdout",
     "output_type": "stream",
     "text": [
      "<class 'pandas.core.frame.DataFrame'>\n",
      "RangeIndex: 10000 entries, 0 to 9999\n",
      "Data columns (total 9 columns):\n",
      " #   Column             Non-Null Count  Dtype  \n",
      "---  ------             --------------  -----  \n",
      " 0   Unnamed: 0         10000 non-null  int64  \n",
      " 1   id                 10000 non-null  int64  \n",
      " 2   original_language  10000 non-null  object \n",
      " 3   original_title     10000 non-null  object \n",
      " 4   popularity         10000 non-null  float64\n",
      " 5   release_date       9960 non-null   object \n",
      " 6   vote_average       10000 non-null  float64\n",
      " 7   vote_count         10000 non-null  int64  \n",
      " 8   genre              10000 non-null  object \n",
      "dtypes: float64(2), int64(3), object(4)\n",
      "memory usage: 703.2+ KB\n"
     ]
    }
   ],
   "source": [
    "mov_df = pd.read_csv(\"Top_10000_Popular_Movies.csv\")\n",
    "\n",
    "mov_df.info()"
   ]
  },
  {
   "cell_type": "code",
   "execution_count": 3,
   "id": "f7670e80",
   "metadata": {},
   "outputs": [],
   "source": [
    "mov_df.drop(columns=[\"Unnamed: 0\"], inplace=True)"
   ]
  },
  {
   "cell_type": "code",
   "execution_count": 4,
   "id": "4df3501b",
   "metadata": {},
   "outputs": [
    {
     "data": {
      "text/html": [
       "<div>\n",
       "<style scoped>\n",
       "    .dataframe tbody tr th:only-of-type {\n",
       "        vertical-align: middle;\n",
       "    }\n",
       "\n",
       "    .dataframe tbody tr th {\n",
       "        vertical-align: top;\n",
       "    }\n",
       "\n",
       "    .dataframe thead th {\n",
       "        text-align: right;\n",
       "    }\n",
       "</style>\n",
       "<table border=\"1\" class=\"dataframe\">\n",
       "  <thead>\n",
       "    <tr style=\"text-align: right;\">\n",
       "      <th></th>\n",
       "      <th>id</th>\n",
       "      <th>popularity</th>\n",
       "      <th>vote_average</th>\n",
       "      <th>vote_count</th>\n",
       "    </tr>\n",
       "  </thead>\n",
       "  <tbody>\n",
       "    <tr>\n",
       "      <th>count</th>\n",
       "      <td>10000.00000</td>\n",
       "      <td>10000.000000</td>\n",
       "      <td>10000.000000</td>\n",
       "      <td>10000.000000</td>\n",
       "    </tr>\n",
       "    <tr>\n",
       "      <th>mean</th>\n",
       "      <td>252337.58590</td>\n",
       "      <td>34.984327</td>\n",
       "      <td>6.300120</td>\n",
       "      <td>1304.033700</td>\n",
       "    </tr>\n",
       "    <tr>\n",
       "      <th>std</th>\n",
       "      <td>262027.02199</td>\n",
       "      <td>130.544472</td>\n",
       "      <td>1.463785</td>\n",
       "      <td>2487.256212</td>\n",
       "    </tr>\n",
       "    <tr>\n",
       "      <th>min</th>\n",
       "      <td>5.00000</td>\n",
       "      <td>5.840000</td>\n",
       "      <td>0.000000</td>\n",
       "      <td>0.000000</td>\n",
       "    </tr>\n",
       "    <tr>\n",
       "      <th>25%</th>\n",
       "      <td>11638.75000</td>\n",
       "      <td>11.772750</td>\n",
       "      <td>5.900000</td>\n",
       "      <td>109.000000</td>\n",
       "    </tr>\n",
       "    <tr>\n",
       "      <th>50%</th>\n",
       "      <td>150207.50000</td>\n",
       "      <td>15.972000</td>\n",
       "      <td>6.500000</td>\n",
       "      <td>433.000000</td>\n",
       "    </tr>\n",
       "    <tr>\n",
       "      <th>75%</th>\n",
       "      <td>456957.00000</td>\n",
       "      <td>27.480500</td>\n",
       "      <td>7.100000</td>\n",
       "      <td>1282.000000</td>\n",
       "    </tr>\n",
       "    <tr>\n",
       "      <th>max</th>\n",
       "      <td>884239.00000</td>\n",
       "      <td>8222.616000</td>\n",
       "      <td>10.000000</td>\n",
       "      <td>30043.000000</td>\n",
       "    </tr>\n",
       "  </tbody>\n",
       "</table>\n",
       "</div>"
      ],
      "text/plain": [
       "                 id    popularity  vote_average    vote_count\n",
       "count   10000.00000  10000.000000  10000.000000  10000.000000\n",
       "mean   252337.58590     34.984327      6.300120   1304.033700\n",
       "std    262027.02199    130.544472      1.463785   2487.256212\n",
       "min         5.00000      5.840000      0.000000      0.000000\n",
       "25%     11638.75000     11.772750      5.900000    109.000000\n",
       "50%    150207.50000     15.972000      6.500000    433.000000\n",
       "75%    456957.00000     27.480500      7.100000   1282.000000\n",
       "max    884239.00000   8222.616000     10.000000  30043.000000"
      ]
     },
     "execution_count": 4,
     "metadata": {},
     "output_type": "execute_result"
    }
   ],
   "source": [
    "mov_df.describe()"
   ]
  },
  {
   "cell_type": "code",
   "execution_count": 5,
   "id": "bce61f44",
   "metadata": {},
   "outputs": [
    {
     "data": {
      "text/html": [
       "<div>\n",
       "<style scoped>\n",
       "    .dataframe tbody tr th:only-of-type {\n",
       "        vertical-align: middle;\n",
       "    }\n",
       "\n",
       "    .dataframe tbody tr th {\n",
       "        vertical-align: top;\n",
       "    }\n",
       "\n",
       "    .dataframe thead th {\n",
       "        text-align: right;\n",
       "    }\n",
       "</style>\n",
       "<table border=\"1\" class=\"dataframe\">\n",
       "  <thead>\n",
       "    <tr style=\"text-align: right;\">\n",
       "      <th></th>\n",
       "      <th>id</th>\n",
       "      <th>original_language</th>\n",
       "      <th>original_title</th>\n",
       "      <th>popularity</th>\n",
       "      <th>release_date</th>\n",
       "      <th>vote_average</th>\n",
       "      <th>vote_count</th>\n",
       "      <th>genre</th>\n",
       "    </tr>\n",
       "  </thead>\n",
       "  <tbody>\n",
       "    <tr>\n",
       "      <th>0</th>\n",
       "      <td>580489</td>\n",
       "      <td>en</td>\n",
       "      <td>Venom: Let There Be Carnage</td>\n",
       "      <td>8222.616</td>\n",
       "      <td>2021-09-30</td>\n",
       "      <td>7.0</td>\n",
       "      <td>828</td>\n",
       "      <td>['Science Fiction', 'Action']</td>\n",
       "    </tr>\n",
       "    <tr>\n",
       "      <th>1</th>\n",
       "      <td>335983</td>\n",
       "      <td>en</td>\n",
       "      <td>Venom</td>\n",
       "      <td>3012.242</td>\n",
       "      <td>2018-09-28</td>\n",
       "      <td>6.8</td>\n",
       "      <td>11846</td>\n",
       "      <td>['Science Fiction', 'Action']</td>\n",
       "    </tr>\n",
       "    <tr>\n",
       "      <th>2</th>\n",
       "      <td>550988</td>\n",
       "      <td>en</td>\n",
       "      <td>Free Guy</td>\n",
       "      <td>3864.616</td>\n",
       "      <td>2021-08-11</td>\n",
       "      <td>7.8</td>\n",
       "      <td>2908</td>\n",
       "      <td>['Comedy', 'Action', 'Adventure', 'Science Fic...</td>\n",
       "    </tr>\n",
       "    <tr>\n",
       "      <th>3</th>\n",
       "      <td>772436</td>\n",
       "      <td>es</td>\n",
       "      <td>Matando Cabos 2, La Máscara del Máscara</td>\n",
       "      <td>2556.789</td>\n",
       "      <td>2021-10-01</td>\n",
       "      <td>7.7</td>\n",
       "      <td>34</td>\n",
       "      <td>['Action', 'Comedy', 'Adventure']</td>\n",
       "    </tr>\n",
       "    <tr>\n",
       "      <th>4</th>\n",
       "      <td>568620</td>\n",
       "      <td>en</td>\n",
       "      <td>Snake Eyes: G.I. Joe Origins</td>\n",
       "      <td>2164.071</td>\n",
       "      <td>2021-07-22</td>\n",
       "      <td>6.9</td>\n",
       "      <td>685</td>\n",
       "      <td>['Action', 'Adventure']</td>\n",
       "    </tr>\n",
       "  </tbody>\n",
       "</table>\n",
       "</div>"
      ],
      "text/plain": [
       "       id original_language                           original_title  \\\n",
       "0  580489                en              Venom: Let There Be Carnage   \n",
       "1  335983                en                                    Venom   \n",
       "2  550988                en                                 Free Guy   \n",
       "3  772436                es  Matando Cabos 2, La Máscara del Máscara   \n",
       "4  568620                en             Snake Eyes: G.I. Joe Origins   \n",
       "\n",
       "   popularity release_date  vote_average  vote_count  \\\n",
       "0    8222.616   2021-09-30           7.0         828   \n",
       "1    3012.242   2018-09-28           6.8       11846   \n",
       "2    3864.616   2021-08-11           7.8        2908   \n",
       "3    2556.789   2021-10-01           7.7          34   \n",
       "4    2164.071   2021-07-22           6.9         685   \n",
       "\n",
       "                                               genre  \n",
       "0                      ['Science Fiction', 'Action']  \n",
       "1                      ['Science Fiction', 'Action']  \n",
       "2  ['Comedy', 'Action', 'Adventure', 'Science Fic...  \n",
       "3                  ['Action', 'Comedy', 'Adventure']  \n",
       "4                            ['Action', 'Adventure']  "
      ]
     },
     "execution_count": 5,
     "metadata": {},
     "output_type": "execute_result"
    }
   ],
   "source": [
    "mov_df.head()"
   ]
  },
  {
   "cell_type": "code",
   "execution_count": 6,
   "id": "790b1cb4",
   "metadata": {},
   "outputs": [
    {
     "data": {
      "text/html": [
       "<div>\n",
       "<style scoped>\n",
       "    .dataframe tbody tr th:only-of-type {\n",
       "        vertical-align: middle;\n",
       "    }\n",
       "\n",
       "    .dataframe tbody tr th {\n",
       "        vertical-align: top;\n",
       "    }\n",
       "\n",
       "    .dataframe thead th {\n",
       "        text-align: right;\n",
       "    }\n",
       "</style>\n",
       "<table border=\"1\" class=\"dataframe\">\n",
       "  <thead>\n",
       "    <tr style=\"text-align: right;\">\n",
       "      <th></th>\n",
       "      <th>id</th>\n",
       "      <th>original_language</th>\n",
       "      <th>original_title</th>\n",
       "      <th>popularity</th>\n",
       "      <th>release_date</th>\n",
       "      <th>vote_average</th>\n",
       "      <th>vote_count</th>\n",
       "      <th>genre</th>\n",
       "    </tr>\n",
       "  </thead>\n",
       "  <tbody>\n",
       "    <tr>\n",
       "      <th>9995</th>\n",
       "      <td>34653</td>\n",
       "      <td>en</td>\n",
       "      <td>A Single Man</td>\n",
       "      <td>11.647</td>\n",
       "      <td>2009-10-19</td>\n",
       "      <td>7.3</td>\n",
       "      <td>1209</td>\n",
       "      <td>['Romance', 'Drama']</td>\n",
       "    </tr>\n",
       "    <tr>\n",
       "      <th>9996</th>\n",
       "      <td>33518</td>\n",
       "      <td>en</td>\n",
       "      <td>Alligator</td>\n",
       "      <td>9.894</td>\n",
       "      <td>1980-07-02</td>\n",
       "      <td>5.8</td>\n",
       "      <td>182</td>\n",
       "      <td>['Horror', 'Science Fiction', 'Thriller']</td>\n",
       "    </tr>\n",
       "    <tr>\n",
       "      <th>9997</th>\n",
       "      <td>26320</td>\n",
       "      <td>en</td>\n",
       "      <td>Taking Woodstock</td>\n",
       "      <td>9.197</td>\n",
       "      <td>2009-08-26</td>\n",
       "      <td>6.2</td>\n",
       "      <td>321</td>\n",
       "      <td>['Music', 'Comedy', 'Drama']</td>\n",
       "    </tr>\n",
       "    <tr>\n",
       "      <th>9998</th>\n",
       "      <td>287318</td>\n",
       "      <td>en</td>\n",
       "      <td>3 Scream Queens</td>\n",
       "      <td>7.350</td>\n",
       "      <td>2014-11-25</td>\n",
       "      <td>5.2</td>\n",
       "      <td>5</td>\n",
       "      <td>['Horror']</td>\n",
       "    </tr>\n",
       "    <tr>\n",
       "      <th>9999</th>\n",
       "      <td>66664</td>\n",
       "      <td>it</td>\n",
       "      <td>Terminator II</td>\n",
       "      <td>9.624</td>\n",
       "      <td>1989-08-22</td>\n",
       "      <td>4.9</td>\n",
       "      <td>31</td>\n",
       "      <td>['Action', 'Science Fiction', 'Horror']</td>\n",
       "    </tr>\n",
       "  </tbody>\n",
       "</table>\n",
       "</div>"
      ],
      "text/plain": [
       "          id original_language    original_title  popularity release_date  \\\n",
       "9995   34653                en      A Single Man      11.647   2009-10-19   \n",
       "9996   33518                en         Alligator       9.894   1980-07-02   \n",
       "9997   26320                en  Taking Woodstock       9.197   2009-08-26   \n",
       "9998  287318                en   3 Scream Queens       7.350   2014-11-25   \n",
       "9999   66664                it     Terminator II       9.624   1989-08-22   \n",
       "\n",
       "      vote_average  vote_count                                      genre  \n",
       "9995           7.3        1209                       ['Romance', 'Drama']  \n",
       "9996           5.8         182  ['Horror', 'Science Fiction', 'Thriller']  \n",
       "9997           6.2         321               ['Music', 'Comedy', 'Drama']  \n",
       "9998           5.2           5                                 ['Horror']  \n",
       "9999           4.9          31    ['Action', 'Science Fiction', 'Horror']  "
      ]
     },
     "execution_count": 6,
     "metadata": {},
     "output_type": "execute_result"
    }
   ],
   "source": [
    "mov_df.tail()"
   ]
  },
  {
   "cell_type": "code",
   "execution_count": 7,
   "id": "86e914e1",
   "metadata": {},
   "outputs": [
    {
     "data": {
      "text/plain": [
       "en    7761\n",
       "ja     594\n",
       "es     460\n",
       "fr     298\n",
       "ko     154\n",
       "Name: original_language, dtype: int64"
      ]
     },
     "execution_count": 7,
     "metadata": {},
     "output_type": "execute_result"
    }
   ],
   "source": [
    "mov_df[\"original_language\"].value_counts().head()"
   ]
  },
  {
   "cell_type": "code",
   "execution_count": 8,
   "id": "132630cd",
   "metadata": {},
   "outputs": [
    {
     "data": {
      "text/plain": [
       "la    1\n",
       "uk    1\n",
       "ca    1\n",
       "bn    1\n",
       "ku    1\n",
       "Name: original_language, dtype: int64"
      ]
     },
     "execution_count": 8,
     "metadata": {},
     "output_type": "execute_result"
    }
   ],
   "source": [
    "mov_df[\"original_language\"].value_counts().tail()"
   ]
  },
  {
   "cell_type": "code",
   "execution_count": 9,
   "id": "a4b0fe36",
   "metadata": {},
   "outputs": [
    {
     "data": {
      "text/plain": [
       "Venom                  5\n",
       "Les Misérables         3\n",
       "The Little Mermaid     3\n",
       "Carrie                 3\n",
       "Porno                  3\n",
       "                      ..\n",
       "All My Life            1\n",
       "Extraterrestre         1\n",
       "American Hustle        1\n",
       "Blood of Redemption    1\n",
       "Terminator II          1\n",
       "Name: original_title, Length: 9768, dtype: int64"
      ]
     },
     "execution_count": 9,
     "metadata": {},
     "output_type": "execute_result"
    }
   ],
   "source": [
    "mov_df[\"original_title\"].value_counts()"
   ]
  },
  {
   "cell_type": "code",
   "execution_count": 10,
   "id": "effbe8ba",
   "metadata": {},
   "outputs": [
    {
     "data": {
      "text/plain": [
       "Venom                 5\n",
       "Les Misérables        3\n",
       "The Little Mermaid    3\n",
       "Carrie                3\n",
       "Porno                 3\n",
       "Name: original_title, dtype: int64"
      ]
     },
     "execution_count": 10,
     "metadata": {},
     "output_type": "execute_result"
    }
   ],
   "source": [
    "mov_df[\"original_title\"].value_counts().head()"
   ]
  },
  {
   "cell_type": "code",
   "execution_count": 11,
   "id": "98ac9763",
   "metadata": {},
   "outputs": [
    {
     "data": {
      "text/plain": [
       "All My Life            1\n",
       "Extraterrestre         1\n",
       "American Hustle        1\n",
       "Blood of Redemption    1\n",
       "Terminator II          1\n",
       "Name: original_title, dtype: int64"
      ]
     },
     "execution_count": 11,
     "metadata": {},
     "output_type": "execute_result"
    }
   ],
   "source": [
    "mov_df[\"original_title\"].value_counts().tail()"
   ]
  },
  {
   "cell_type": "code",
   "execution_count": 12,
   "id": "346698c4",
   "metadata": {},
   "outputs": [
    {
     "data": {
      "text/plain": [
       "2021-10-21    39\n",
       "2021-10-15    25\n",
       "2021-10-20    24\n",
       "2021-10-08    20\n",
       "2021-10-22    17\n",
       "              ..\n",
       "2000-10-17     1\n",
       "2000-03-02     1\n",
       "2008-09-30     1\n",
       "2016-05-19     1\n",
       "1989-08-22     1\n",
       "Name: release_date, Length: 5668, dtype: int64"
      ]
     },
     "execution_count": 12,
     "metadata": {},
     "output_type": "execute_result"
    }
   ],
   "source": [
    "mov_df[\"release_date\"].value_counts()"
   ]
  },
  {
   "cell_type": "code",
   "execution_count": 13,
   "id": "2e9e83de",
   "metadata": {},
   "outputs": [
    {
     "data": {
      "text/plain": [
       "2021-10-21    39\n",
       "2021-10-15    25\n",
       "2021-10-20    24\n",
       "2021-10-08    20\n",
       "2021-10-22    17\n",
       "Name: release_date, dtype: int64"
      ]
     },
     "execution_count": 13,
     "metadata": {},
     "output_type": "execute_result"
    }
   ],
   "source": [
    "mov_df[\"release_date\"].value_counts().head()"
   ]
  },
  {
   "cell_type": "code",
   "execution_count": 14,
   "id": "b1bd0407",
   "metadata": {},
   "outputs": [
    {
     "data": {
      "text/plain": [
       "2000-10-17    1\n",
       "2000-03-02    1\n",
       "2008-09-30    1\n",
       "2016-05-19    1\n",
       "1989-08-22    1\n",
       "Name: release_date, dtype: int64"
      ]
     },
     "execution_count": 14,
     "metadata": {},
     "output_type": "execute_result"
    }
   ],
   "source": [
    "mov_df[\"release_date\"].value_counts().tail()"
   ]
  },
  {
   "cell_type": "code",
   "execution_count": 15,
   "id": "55ec88ff",
   "metadata": {},
   "outputs": [
    {
     "data": {
      "text/plain": [
       "8222.616"
      ]
     },
     "execution_count": 15,
     "metadata": {},
     "output_type": "execute_result"
    }
   ],
   "source": [
    "mov_df[\"popularity\"].max()"
   ]
  },
  {
   "cell_type": "code",
   "execution_count": 16,
   "id": "96069339",
   "metadata": {},
   "outputs": [
    {
     "data": {
      "text/plain": [
       "5.84"
      ]
     },
     "execution_count": 16,
     "metadata": {},
     "output_type": "execute_result"
    }
   ],
   "source": [
    "mov_df[\"popularity\"].min()"
   ]
  },
  {
   "cell_type": "code",
   "execution_count": 17,
   "id": "8b3dc2e1",
   "metadata": {},
   "outputs": [
    {
     "data": {
      "text/plain": [
       "34.9843265"
      ]
     },
     "execution_count": 17,
     "metadata": {},
     "output_type": "execute_result"
    }
   ],
   "source": [
    "mov_df[\"popularity\"].mean()"
   ]
  },
  {
   "cell_type": "code",
   "execution_count": 18,
   "id": "ff528f71",
   "metadata": {},
   "outputs": [
    {
     "data": {
      "text/plain": [
       "id                                          580489\n",
       "original_language                               en\n",
       "original_title         Venom: Let There Be Carnage\n",
       "popularity                                8222.616\n",
       "release_date                            2021-09-30\n",
       "vote_average                                   7.0\n",
       "vote_count                                     828\n",
       "genre                ['Science Fiction', 'Action']\n",
       "Name: 0, dtype: object"
      ]
     },
     "execution_count": 18,
     "metadata": {},
     "output_type": "execute_result"
    }
   ],
   "source": [
    "max_id = mov_df[\"popularity\"].idxmax()\n",
    "\n",
    "mov_df.loc[max_id]"
   ]
  },
  {
   "cell_type": "code",
   "execution_count": 19,
   "id": "501ea9c9",
   "metadata": {},
   "outputs": [
    {
     "data": {
      "text/plain": [
       "id                                 26291\n",
       "original_language                     en\n",
       "original_title          Shakes the Clown\n",
       "popularity                          5.84\n",
       "release_date                  1991-08-28\n",
       "vote_average                         5.6\n",
       "vote_count                            50\n",
       "genre                ['Comedy', 'Crime']\n",
       "Name: 9854, dtype: object"
      ]
     },
     "execution_count": 19,
     "metadata": {},
     "output_type": "execute_result"
    }
   ],
   "source": [
    "min_id = mov_df[\"popularity\"].idxmin()\n",
    "\n",
    "mov_df.loc[min_id]"
   ]
  },
  {
   "cell_type": "code",
   "execution_count": 20,
   "id": "f22d0c0e",
   "metadata": {},
   "outputs": [
    {
     "data": {
      "text/html": [
       "<div>\n",
       "<style scoped>\n",
       "    .dataframe tbody tr th:only-of-type {\n",
       "        vertical-align: middle;\n",
       "    }\n",
       "\n",
       "    .dataframe tbody tr th {\n",
       "        vertical-align: top;\n",
       "    }\n",
       "\n",
       "    .dataframe thead th {\n",
       "        text-align: right;\n",
       "    }\n",
       "</style>\n",
       "<table border=\"1\" class=\"dataframe\">\n",
       "  <thead>\n",
       "    <tr style=\"text-align: right;\">\n",
       "      <th></th>\n",
       "      <th>id</th>\n",
       "      <th>original_language</th>\n",
       "      <th>original_title</th>\n",
       "      <th>popularity</th>\n",
       "      <th>release_date</th>\n",
       "      <th>vote_average</th>\n",
       "      <th>vote_count</th>\n",
       "      <th>genre</th>\n",
       "    </tr>\n",
       "  </thead>\n",
       "  <tbody>\n",
       "    <tr>\n",
       "      <th>505</th>\n",
       "      <td>875828</td>\n",
       "      <td>en</td>\n",
       "      <td>Untitled Peaky Blinders Film</td>\n",
       "      <td>98.046</td>\n",
       "      <td>NaN</td>\n",
       "      <td>10.0</td>\n",
       "      <td>2</td>\n",
       "      <td>[]</td>\n",
       "    </tr>\n",
       "    <tr>\n",
       "      <th>4354</th>\n",
       "      <td>584948</td>\n",
       "      <td>es</td>\n",
       "      <td>Eyes of Desire</td>\n",
       "      <td>15.329</td>\n",
       "      <td>1998-09-01</td>\n",
       "      <td>10.0</td>\n",
       "      <td>1</td>\n",
       "      <td>[]</td>\n",
       "    </tr>\n",
       "    <tr>\n",
       "      <th>4964</th>\n",
       "      <td>794819</td>\n",
       "      <td>hi</td>\n",
       "      <td>रश्मि रॉकेट</td>\n",
       "      <td>13.048</td>\n",
       "      <td>2021-10-15</td>\n",
       "      <td>10.0</td>\n",
       "      <td>1</td>\n",
       "      <td>['Drama']</td>\n",
       "    </tr>\n",
       "    <tr>\n",
       "      <th>5473</th>\n",
       "      <td>882251</td>\n",
       "      <td>en</td>\n",
       "      <td>Silent Hours</td>\n",
       "      <td>15.822</td>\n",
       "      <td>2021-10-07</td>\n",
       "      <td>10.0</td>\n",
       "      <td>1</td>\n",
       "      <td>['Thriller']</td>\n",
       "    </tr>\n",
       "    <tr>\n",
       "      <th>6738</th>\n",
       "      <td>856577</td>\n",
       "      <td>ja</td>\n",
       "      <td>ソードアート・オンライン Extra Edition</td>\n",
       "      <td>9.533</td>\n",
       "      <td>2013-12-31</td>\n",
       "      <td>10.0</td>\n",
       "      <td>1</td>\n",
       "      <td>['Animation']</td>\n",
       "    </tr>\n",
       "  </tbody>\n",
       "</table>\n",
       "</div>"
      ],
      "text/plain": [
       "          id original_language                original_title  popularity  \\\n",
       "505   875828                en  Untitled Peaky Blinders Film      98.046   \n",
       "4354  584948                es                Eyes of Desire      15.329   \n",
       "4964  794819                hi                   रश्मि रॉकेट      13.048   \n",
       "5473  882251                en                  Silent Hours      15.822   \n",
       "6738  856577                ja    ソードアート・オンライン Extra Edition       9.533   \n",
       "\n",
       "     release_date  vote_average  vote_count          genre  \n",
       "505           NaN          10.0           2             []  \n",
       "4354   1998-09-01          10.0           1             []  \n",
       "4964   2021-10-15          10.0           1      ['Drama']  \n",
       "5473   2021-10-07          10.0           1   ['Thriller']  \n",
       "6738   2013-12-31          10.0           1  ['Animation']  "
      ]
     },
     "execution_count": 20,
     "metadata": {},
     "output_type": "execute_result"
    }
   ],
   "source": [
    "mov_df[mov_df[\"vote_average\"] == 10.0].head()"
   ]
  },
  {
   "cell_type": "code",
   "execution_count": 21,
   "id": "6ae96447",
   "metadata": {},
   "outputs": [
    {
     "data": {
      "text/html": [
       "<div>\n",
       "<style scoped>\n",
       "    .dataframe tbody tr th:only-of-type {\n",
       "        vertical-align: middle;\n",
       "    }\n",
       "\n",
       "    .dataframe tbody tr th {\n",
       "        vertical-align: top;\n",
       "    }\n",
       "\n",
       "    .dataframe thead th {\n",
       "        text-align: right;\n",
       "    }\n",
       "</style>\n",
       "<table border=\"1\" class=\"dataframe\">\n",
       "  <thead>\n",
       "    <tr style=\"text-align: right;\">\n",
       "      <th></th>\n",
       "      <th>id</th>\n",
       "      <th>original_language</th>\n",
       "      <th>original_title</th>\n",
       "      <th>popularity</th>\n",
       "      <th>release_date</th>\n",
       "      <th>vote_average</th>\n",
       "      <th>vote_count</th>\n",
       "      <th>genre</th>\n",
       "    </tr>\n",
       "  </thead>\n",
       "  <tbody>\n",
       "    <tr>\n",
       "      <th>117</th>\n",
       "      <td>585083</td>\n",
       "      <td>en</td>\n",
       "      <td>Hotel Transylvania: Transformania</td>\n",
       "      <td>273.981</td>\n",
       "      <td>2022-01-14</td>\n",
       "      <td>0.0</td>\n",
       "      <td>0</td>\n",
       "      <td>['Family', 'Animation', 'Fantasy', 'Comedy', '...</td>\n",
       "    </tr>\n",
       "    <tr>\n",
       "      <th>121</th>\n",
       "      <td>634649</td>\n",
       "      <td>en</td>\n",
       "      <td>Spider-Man: No Way Home</td>\n",
       "      <td>273.680</td>\n",
       "      <td>2021-12-15</td>\n",
       "      <td>0.0</td>\n",
       "      <td>0</td>\n",
       "      <td>['Science Fiction', 'Action', 'Adventure', 'Fa...</td>\n",
       "    </tr>\n",
       "    <tr>\n",
       "      <th>161</th>\n",
       "      <td>385687</td>\n",
       "      <td>en</td>\n",
       "      <td>Fast &amp; Furious 10</td>\n",
       "      <td>194.837</td>\n",
       "      <td>2023-04-06</td>\n",
       "      <td>0.0</td>\n",
       "      <td>0</td>\n",
       "      <td>['Action', 'Crime']</td>\n",
       "    </tr>\n",
       "    <tr>\n",
       "      <th>172</th>\n",
       "      <td>524434</td>\n",
       "      <td>en</td>\n",
       "      <td>Eternals</td>\n",
       "      <td>292.382</td>\n",
       "      <td>2021-11-03</td>\n",
       "      <td>0.0</td>\n",
       "      <td>0</td>\n",
       "      <td>['Science Fiction', 'Action', 'Adventure', 'Dr...</td>\n",
       "    </tr>\n",
       "    <tr>\n",
       "      <th>225</th>\n",
       "      <td>763873</td>\n",
       "      <td>en</td>\n",
       "      <td>Under Wraps</td>\n",
       "      <td>255.892</td>\n",
       "      <td>2021-10-30</td>\n",
       "      <td>0.0</td>\n",
       "      <td>0</td>\n",
       "      <td>['Comedy', 'Family']</td>\n",
       "    </tr>\n",
       "  </tbody>\n",
       "</table>\n",
       "</div>"
      ],
      "text/plain": [
       "         id original_language                     original_title  popularity  \\\n",
       "117  585083                en  Hotel Transylvania: Transformania     273.981   \n",
       "121  634649                en            Spider-Man: No Way Home     273.680   \n",
       "161  385687                en                  Fast & Furious 10     194.837   \n",
       "172  524434                en                           Eternals     292.382   \n",
       "225  763873                en                        Under Wraps     255.892   \n",
       "\n",
       "    release_date  vote_average  vote_count  \\\n",
       "117   2022-01-14           0.0           0   \n",
       "121   2021-12-15           0.0           0   \n",
       "161   2023-04-06           0.0           0   \n",
       "172   2021-11-03           0.0           0   \n",
       "225   2021-10-30           0.0           0   \n",
       "\n",
       "                                                 genre  \n",
       "117  ['Family', 'Animation', 'Fantasy', 'Comedy', '...  \n",
       "121  ['Science Fiction', 'Action', 'Adventure', 'Fa...  \n",
       "161                                ['Action', 'Crime']  \n",
       "172  ['Science Fiction', 'Action', 'Adventure', 'Dr...  \n",
       "225                               ['Comedy', 'Family']  "
      ]
     },
     "execution_count": 21,
     "metadata": {},
     "output_type": "execute_result"
    }
   ],
   "source": [
    "mov_df[mov_df[\"vote_average\"] == 0.0].head()"
   ]
  },
  {
   "cell_type": "code",
   "execution_count": 22,
   "id": "75692569",
   "metadata": {},
   "outputs": [
    {
     "data": {
      "text/html": [
       "<div>\n",
       "<style scoped>\n",
       "    .dataframe tbody tr th:only-of-type {\n",
       "        vertical-align: middle;\n",
       "    }\n",
       "\n",
       "    .dataframe tbody tr th {\n",
       "        vertical-align: top;\n",
       "    }\n",
       "\n",
       "    .dataframe thead th {\n",
       "        text-align: right;\n",
       "    }\n",
       "</style>\n",
       "<table border=\"1\" class=\"dataframe\">\n",
       "  <thead>\n",
       "    <tr style=\"text-align: right;\">\n",
       "      <th></th>\n",
       "      <th>id</th>\n",
       "      <th>popularity</th>\n",
       "      <th>vote_average</th>\n",
       "      <th>vote_count</th>\n",
       "    </tr>\n",
       "  </thead>\n",
       "  <tbody>\n",
       "    <tr>\n",
       "      <th>id</th>\n",
       "      <td>1.000000</td>\n",
       "      <td>0.121851</td>\n",
       "      <td>-0.247567</td>\n",
       "      <td>-0.237103</td>\n",
       "    </tr>\n",
       "    <tr>\n",
       "      <th>popularity</th>\n",
       "      <td>0.121851</td>\n",
       "      <td>1.000000</td>\n",
       "      <td>0.045352</td>\n",
       "      <td>0.088182</td>\n",
       "    </tr>\n",
       "    <tr>\n",
       "      <th>vote_average</th>\n",
       "      <td>-0.247567</td>\n",
       "      <td>0.045352</td>\n",
       "      <td>1.000000</td>\n",
       "      <td>0.240653</td>\n",
       "    </tr>\n",
       "    <tr>\n",
       "      <th>vote_count</th>\n",
       "      <td>-0.237103</td>\n",
       "      <td>0.088182</td>\n",
       "      <td>0.240653</td>\n",
       "      <td>1.000000</td>\n",
       "    </tr>\n",
       "  </tbody>\n",
       "</table>\n",
       "</div>"
      ],
      "text/plain": [
       "                    id  popularity  vote_average  vote_count\n",
       "id            1.000000    0.121851     -0.247567   -0.237103\n",
       "popularity    0.121851    1.000000      0.045352    0.088182\n",
       "vote_average -0.247567    0.045352      1.000000    0.240653\n",
       "vote_count   -0.237103    0.088182      0.240653    1.000000"
      ]
     },
     "execution_count": 22,
     "metadata": {},
     "output_type": "execute_result"
    }
   ],
   "source": [
    "mov_df.corr()"
   ]
  },
  {
   "cell_type": "code",
   "execution_count": 23,
   "id": "7e681064",
   "metadata": {},
   "outputs": [
    {
     "data": {
      "text/plain": [
       "['Drama']                 521\n",
       "['Comedy']                456\n",
       "['Horror']                264\n",
       "['Documentary']           228\n",
       "['Horror', 'Thriller']    218\n",
       "Name: genre, dtype: int64"
      ]
     },
     "execution_count": 23,
     "metadata": {},
     "output_type": "execute_result"
    }
   ],
   "source": [
    "mov_df[\"genre\"].value_counts().head()"
   ]
  },
  {
   "cell_type": "code",
   "execution_count": 24,
   "id": "4b882557",
   "metadata": {},
   "outputs": [
    {
     "data": {
      "text/plain": [
       "['Action', 'Adventure', 'Fantasy', 'TV Movie']                          1\n",
       "['Animation', 'Family', 'Fantasy', 'Adventure', 'Comedy', 'Romance']    1\n",
       "['Adventure', 'Horror', 'Comedy']                                       1\n",
       "['Comedy', 'Adventure', 'Fantasy', 'Animation', 'Family']               1\n",
       "['Comedy', 'Romance', 'TV Movie', 'Drama']                              1\n",
       "Name: genre, dtype: int64"
      ]
     },
     "execution_count": 24,
     "metadata": {},
     "output_type": "execute_result"
    }
   ],
   "source": [
    "mov_df[\"genre\"].value_counts().tail()"
   ]
  },
  {
   "cell_type": "code",
   "execution_count": 25,
   "id": "a1314c10",
   "metadata": {},
   "outputs": [
    {
     "data": {
      "text/html": [
       "<div>\n",
       "<style scoped>\n",
       "    .dataframe tbody tr th:only-of-type {\n",
       "        vertical-align: middle;\n",
       "    }\n",
       "\n",
       "    .dataframe tbody tr th {\n",
       "        vertical-align: top;\n",
       "    }\n",
       "\n",
       "    .dataframe thead th {\n",
       "        text-align: right;\n",
       "    }\n",
       "</style>\n",
       "<table border=\"1\" class=\"dataframe\">\n",
       "  <thead>\n",
       "    <tr style=\"text-align: right;\">\n",
       "      <th></th>\n",
       "      <th>genre</th>\n",
       "      <th>popularity</th>\n",
       "    </tr>\n",
       "  </thead>\n",
       "  <tbody>\n",
       "    <tr>\n",
       "      <th>0</th>\n",
       "      <td>['Science Fiction', 'Action']</td>\n",
       "      <td>8222.616</td>\n",
       "    </tr>\n",
       "    <tr>\n",
       "      <th>1</th>\n",
       "      <td>['Science Fiction', 'Action']</td>\n",
       "      <td>3012.242</td>\n",
       "    </tr>\n",
       "    <tr>\n",
       "      <th>2</th>\n",
       "      <td>['Comedy', 'Action', 'Adventure', 'Science Fic...</td>\n",
       "      <td>3864.616</td>\n",
       "    </tr>\n",
       "    <tr>\n",
       "      <th>3</th>\n",
       "      <td>['Action', 'Comedy', 'Adventure']</td>\n",
       "      <td>2556.789</td>\n",
       "    </tr>\n",
       "    <tr>\n",
       "      <th>4</th>\n",
       "      <td>['Action', 'Adventure']</td>\n",
       "      <td>2164.071</td>\n",
       "    </tr>\n",
       "  </tbody>\n",
       "</table>\n",
       "</div>"
      ],
      "text/plain": [
       "                                               genre  popularity\n",
       "0                      ['Science Fiction', 'Action']    8222.616\n",
       "1                      ['Science Fiction', 'Action']    3012.242\n",
       "2  ['Comedy', 'Action', 'Adventure', 'Science Fic...    3864.616\n",
       "3                  ['Action', 'Comedy', 'Adventure']    2556.789\n",
       "4                            ['Action', 'Adventure']    2164.071"
      ]
     },
     "execution_count": 25,
     "metadata": {},
     "output_type": "execute_result"
    }
   ],
   "source": [
    "mov_df[[\"genre\", \"popularity\"]].head()"
   ]
  },
  {
   "cell_type": "code",
   "execution_count": 26,
   "id": "b1224eea",
   "metadata": {},
   "outputs": [
    {
     "data": {
      "text/html": [
       "<div>\n",
       "<style scoped>\n",
       "    .dataframe tbody tr th:only-of-type {\n",
       "        vertical-align: middle;\n",
       "    }\n",
       "\n",
       "    .dataframe tbody tr th {\n",
       "        vertical-align: top;\n",
       "    }\n",
       "\n",
       "    .dataframe thead th {\n",
       "        text-align: right;\n",
       "    }\n",
       "</style>\n",
       "<table border=\"1\" class=\"dataframe\">\n",
       "  <thead>\n",
       "    <tr style=\"text-align: right;\">\n",
       "      <th></th>\n",
       "      <th>genre</th>\n",
       "      <th>popularity</th>\n",
       "    </tr>\n",
       "  </thead>\n",
       "  <tbody>\n",
       "    <tr>\n",
       "      <th>9995</th>\n",
       "      <td>['Romance', 'Drama']</td>\n",
       "      <td>11.647</td>\n",
       "    </tr>\n",
       "    <tr>\n",
       "      <th>9996</th>\n",
       "      <td>['Horror', 'Science Fiction', 'Thriller']</td>\n",
       "      <td>9.894</td>\n",
       "    </tr>\n",
       "    <tr>\n",
       "      <th>9997</th>\n",
       "      <td>['Music', 'Comedy', 'Drama']</td>\n",
       "      <td>9.197</td>\n",
       "    </tr>\n",
       "    <tr>\n",
       "      <th>9998</th>\n",
       "      <td>['Horror']</td>\n",
       "      <td>7.350</td>\n",
       "    </tr>\n",
       "    <tr>\n",
       "      <th>9999</th>\n",
       "      <td>['Action', 'Science Fiction', 'Horror']</td>\n",
       "      <td>9.624</td>\n",
       "    </tr>\n",
       "  </tbody>\n",
       "</table>\n",
       "</div>"
      ],
      "text/plain": [
       "                                          genre  popularity\n",
       "9995                       ['Romance', 'Drama']      11.647\n",
       "9996  ['Horror', 'Science Fiction', 'Thriller']       9.894\n",
       "9997               ['Music', 'Comedy', 'Drama']       9.197\n",
       "9998                                 ['Horror']       7.350\n",
       "9999    ['Action', 'Science Fiction', 'Horror']       9.624"
      ]
     },
     "execution_count": 26,
     "metadata": {},
     "output_type": "execute_result"
    }
   ],
   "source": [
    "mov_df[[\"genre\", \"popularity\"]].tail()"
   ]
  },
  {
   "cell_type": "code",
   "execution_count": 27,
   "id": "9726263f",
   "metadata": {},
   "outputs": [
    {
     "data": {
      "text/html": [
       "<div>\n",
       "<style scoped>\n",
       "    .dataframe tbody tr th:only-of-type {\n",
       "        vertical-align: middle;\n",
       "    }\n",
       "\n",
       "    .dataframe tbody tr th {\n",
       "        vertical-align: top;\n",
       "    }\n",
       "\n",
       "    .dataframe thead th {\n",
       "        text-align: right;\n",
       "    }\n",
       "</style>\n",
       "<table border=\"1\" class=\"dataframe\">\n",
       "  <thead>\n",
       "    <tr style=\"text-align: right;\">\n",
       "      <th></th>\n",
       "      <th>original_title</th>\n",
       "      <th>vote_count</th>\n",
       "    </tr>\n",
       "  </thead>\n",
       "  <tbody>\n",
       "    <tr>\n",
       "      <th>0</th>\n",
       "      <td>Venom: Let There Be Carnage</td>\n",
       "      <td>828</td>\n",
       "    </tr>\n",
       "    <tr>\n",
       "      <th>1</th>\n",
       "      <td>Venom</td>\n",
       "      <td>11846</td>\n",
       "    </tr>\n",
       "    <tr>\n",
       "      <th>2</th>\n",
       "      <td>Free Guy</td>\n",
       "      <td>2908</td>\n",
       "    </tr>\n",
       "    <tr>\n",
       "      <th>3</th>\n",
       "      <td>Matando Cabos 2, La Máscara del Máscara</td>\n",
       "      <td>34</td>\n",
       "    </tr>\n",
       "    <tr>\n",
       "      <th>4</th>\n",
       "      <td>Snake Eyes: G.I. Joe Origins</td>\n",
       "      <td>685</td>\n",
       "    </tr>\n",
       "    <tr>\n",
       "      <th>...</th>\n",
       "      <td>...</td>\n",
       "      <td>...</td>\n",
       "    </tr>\n",
       "    <tr>\n",
       "      <th>9995</th>\n",
       "      <td>A Single Man</td>\n",
       "      <td>1209</td>\n",
       "    </tr>\n",
       "    <tr>\n",
       "      <th>9996</th>\n",
       "      <td>Alligator</td>\n",
       "      <td>182</td>\n",
       "    </tr>\n",
       "    <tr>\n",
       "      <th>9997</th>\n",
       "      <td>Taking Woodstock</td>\n",
       "      <td>321</td>\n",
       "    </tr>\n",
       "    <tr>\n",
       "      <th>9998</th>\n",
       "      <td>3 Scream Queens</td>\n",
       "      <td>5</td>\n",
       "    </tr>\n",
       "    <tr>\n",
       "      <th>9999</th>\n",
       "      <td>Terminator II</td>\n",
       "      <td>31</td>\n",
       "    </tr>\n",
       "  </tbody>\n",
       "</table>\n",
       "<p>10000 rows × 2 columns</p>\n",
       "</div>"
      ],
      "text/plain": [
       "                               original_title  vote_count\n",
       "0                 Venom: Let There Be Carnage         828\n",
       "1                                       Venom       11846\n",
       "2                                    Free Guy        2908\n",
       "3     Matando Cabos 2, La Máscara del Máscara          34\n",
       "4                Snake Eyes: G.I. Joe Origins         685\n",
       "...                                       ...         ...\n",
       "9995                             A Single Man        1209\n",
       "9996                                Alligator         182\n",
       "9997                         Taking Woodstock         321\n",
       "9998                          3 Scream Queens           5\n",
       "9999                            Terminator II          31\n",
       "\n",
       "[10000 rows x 2 columns]"
      ]
     },
     "execution_count": 27,
     "metadata": {},
     "output_type": "execute_result"
    }
   ],
   "source": [
    "mov_df[[\"original_title\", \"vote_count\"]]"
   ]
  },
  {
   "cell_type": "code",
   "execution_count": 28,
   "id": "dd5b0df6",
   "metadata": {},
   "outputs": [
    {
     "data": {
      "text/plain": [
       "65"
      ]
     },
     "execution_count": 28,
     "metadata": {},
     "output_type": "execute_result"
    }
   ],
   "source": [
    "mov_df[\"genre\"].value_counts().nunique()"
   ]
  },
  {
   "cell_type": "code",
   "execution_count": 29,
   "id": "3b27f9be",
   "metadata": {},
   "outputs": [
    {
     "data": {
      "text/plain": [
       "4"
      ]
     },
     "execution_count": 29,
     "metadata": {},
     "output_type": "execute_result"
    }
   ],
   "source": [
    "mov_df[\"original_title\"].value_counts().nunique()"
   ]
  },
  {
   "cell_type": "code",
   "execution_count": null,
   "id": "b226d45d",
   "metadata": {},
   "outputs": [],
   "source": []
  },
  {
   "cell_type": "code",
   "execution_count": null,
   "id": "2e8ee63f",
   "metadata": {},
   "outputs": [],
   "source": []
  }
 ],
 "metadata": {
  "kernelspec": {
   "display_name": "Python 3",
   "language": "python",
   "name": "python3"
  },
  "language_info": {
   "codemirror_mode": {
    "name": "ipython",
    "version": 3
   },
   "file_extension": ".py",
   "mimetype": "text/x-python",
   "name": "python",
   "nbconvert_exporter": "python",
   "pygments_lexer": "ipython3",
   "version": "3.9.7"
  }
 },
 "nbformat": 4,
 "nbformat_minor": 5
}
