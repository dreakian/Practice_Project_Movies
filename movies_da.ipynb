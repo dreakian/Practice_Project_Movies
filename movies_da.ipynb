{
 "cells": [
  {
   "cell_type": "markdown",
   "id": "bff3c536",
   "metadata": {},
   "source": [
    "# Dataset source: https://www.kaggle.com/omkarborikar/top-10000-popular-movies"
   ]
  },
  {
   "cell_type": "code",
   "execution_count": 1,
   "id": "107774e5",
   "metadata": {},
   "outputs": [],
   "source": [
    "import pandas as pd\n",
    "import numpy as np\n",
    "import matplotlib.pyplot as plt\n",
    "import seaborn as sns\n",
    "%matplotlib inline"
   ]
  },
  {
   "cell_type": "markdown",
   "id": "0f95802f",
   "metadata": {},
   "source": [
    "###### Reads the dataset and then displays information about each column of data."
   ]
  },
  {
   "cell_type": "code",
   "execution_count": 2,
   "id": "5237bd87",
   "metadata": {
    "scrolled": true
   },
   "outputs": [
    {
     "name": "stdout",
     "output_type": "stream",
     "text": [
      "<class 'pandas.core.frame.DataFrame'>\n",
      "RangeIndex: 10000 entries, 0 to 9999\n",
      "Data columns (total 9 columns):\n",
      " #   Column             Non-Null Count  Dtype  \n",
      "---  ------             --------------  -----  \n",
      " 0   Unnamed: 0         10000 non-null  int64  \n",
      " 1   id                 10000 non-null  int64  \n",
      " 2   original_language  10000 non-null  object \n",
      " 3   original_title     10000 non-null  object \n",
      " 4   popularity         10000 non-null  float64\n",
      " 5   release_date       9960 non-null   object \n",
      " 6   vote_average       10000 non-null  float64\n",
      " 7   vote_count         10000 non-null  int64  \n",
      " 8   genre              10000 non-null  object \n",
      "dtypes: float64(2), int64(3), object(4)\n",
      "memory usage: 703.2+ KB\n"
     ]
    }
   ],
   "source": [
    "mov_df = pd.read_csv(\"Top_10000_Popular_Movies.csv\")\n",
    "\n",
    "mov_df.info()"
   ]
  },
  {
   "cell_type": "markdown",
   "id": "4a3d7817",
   "metadata": {},
   "source": [
    "###### Removes a duplicate column (gets rid of having to see two index columns)"
   ]
  },
  {
   "cell_type": "code",
   "execution_count": 3,
   "id": "f7670e80",
   "metadata": {},
   "outputs": [],
   "source": [
    "mov_df.drop(columns=[\"Unnamed: 0\"], inplace=True)"
   ]
  },
  {
   "cell_type": "markdown",
   "id": "804896df",
   "metadata": {},
   "source": [
    "###### Displays some basic information regarding the data, specific columns with numerical data. Note: The \"id\" column can be ignored."
   ]
  },
  {
   "cell_type": "code",
   "execution_count": 4,
   "id": "4df3501b",
   "metadata": {
    "scrolled": true
   },
   "outputs": [
    {
     "data": {
      "text/html": [
       "<div>\n",
       "<style scoped>\n",
       "    .dataframe tbody tr th:only-of-type {\n",
       "        vertical-align: middle;\n",
       "    }\n",
       "\n",
       "    .dataframe tbody tr th {\n",
       "        vertical-align: top;\n",
       "    }\n",
       "\n",
       "    .dataframe thead th {\n",
       "        text-align: right;\n",
       "    }\n",
       "</style>\n",
       "<table border=\"1\" class=\"dataframe\">\n",
       "  <thead>\n",
       "    <tr style=\"text-align: right;\">\n",
       "      <th></th>\n",
       "      <th>id</th>\n",
       "      <th>popularity</th>\n",
       "      <th>vote_average</th>\n",
       "      <th>vote_count</th>\n",
       "    </tr>\n",
       "  </thead>\n",
       "  <tbody>\n",
       "    <tr>\n",
       "      <th>count</th>\n",
       "      <td>10000.00000</td>\n",
       "      <td>10000.000000</td>\n",
       "      <td>10000.000000</td>\n",
       "      <td>10000.000000</td>\n",
       "    </tr>\n",
       "    <tr>\n",
       "      <th>mean</th>\n",
       "      <td>252337.58590</td>\n",
       "      <td>34.984327</td>\n",
       "      <td>6.300120</td>\n",
       "      <td>1304.033700</td>\n",
       "    </tr>\n",
       "    <tr>\n",
       "      <th>std</th>\n",
       "      <td>262027.02199</td>\n",
       "      <td>130.544472</td>\n",
       "      <td>1.463785</td>\n",
       "      <td>2487.256212</td>\n",
       "    </tr>\n",
       "    <tr>\n",
       "      <th>min</th>\n",
       "      <td>5.00000</td>\n",
       "      <td>5.840000</td>\n",
       "      <td>0.000000</td>\n",
       "      <td>0.000000</td>\n",
       "    </tr>\n",
       "    <tr>\n",
       "      <th>25%</th>\n",
       "      <td>11638.75000</td>\n",
       "      <td>11.772750</td>\n",
       "      <td>5.900000</td>\n",
       "      <td>109.000000</td>\n",
       "    </tr>\n",
       "    <tr>\n",
       "      <th>50%</th>\n",
       "      <td>150207.50000</td>\n",
       "      <td>15.972000</td>\n",
       "      <td>6.500000</td>\n",
       "      <td>433.000000</td>\n",
       "    </tr>\n",
       "    <tr>\n",
       "      <th>75%</th>\n",
       "      <td>456957.00000</td>\n",
       "      <td>27.480500</td>\n",
       "      <td>7.100000</td>\n",
       "      <td>1282.000000</td>\n",
       "    </tr>\n",
       "    <tr>\n",
       "      <th>max</th>\n",
       "      <td>884239.00000</td>\n",
       "      <td>8222.616000</td>\n",
       "      <td>10.000000</td>\n",
       "      <td>30043.000000</td>\n",
       "    </tr>\n",
       "  </tbody>\n",
       "</table>\n",
       "</div>"
      ],
      "text/plain": [
       "                 id    popularity  vote_average    vote_count\n",
       "count   10000.00000  10000.000000  10000.000000  10000.000000\n",
       "mean   252337.58590     34.984327      6.300120   1304.033700\n",
       "std    262027.02199    130.544472      1.463785   2487.256212\n",
       "min         5.00000      5.840000      0.000000      0.000000\n",
       "25%     11638.75000     11.772750      5.900000    109.000000\n",
       "50%    150207.50000     15.972000      6.500000    433.000000\n",
       "75%    456957.00000     27.480500      7.100000   1282.000000\n",
       "max    884239.00000   8222.616000     10.000000  30043.000000"
      ]
     },
     "execution_count": 4,
     "metadata": {},
     "output_type": "execute_result"
    }
   ],
   "source": [
    "mov_df.describe()"
   ]
  },
  {
   "cell_type": "markdown",
   "id": "7d320ba9",
   "metadata": {},
   "source": [
    "###### Displays the first five and last five entries of the dataset."
   ]
  },
  {
   "cell_type": "code",
   "execution_count": 5,
   "id": "bce61f44",
   "metadata": {
    "scrolled": true
   },
   "outputs": [
    {
     "data": {
      "text/html": [
       "<div>\n",
       "<style scoped>\n",
       "    .dataframe tbody tr th:only-of-type {\n",
       "        vertical-align: middle;\n",
       "    }\n",
       "\n",
       "    .dataframe tbody tr th {\n",
       "        vertical-align: top;\n",
       "    }\n",
       "\n",
       "    .dataframe thead th {\n",
       "        text-align: right;\n",
       "    }\n",
       "</style>\n",
       "<table border=\"1\" class=\"dataframe\">\n",
       "  <thead>\n",
       "    <tr style=\"text-align: right;\">\n",
       "      <th></th>\n",
       "      <th>id</th>\n",
       "      <th>original_language</th>\n",
       "      <th>original_title</th>\n",
       "      <th>popularity</th>\n",
       "      <th>release_date</th>\n",
       "      <th>vote_average</th>\n",
       "      <th>vote_count</th>\n",
       "      <th>genre</th>\n",
       "    </tr>\n",
       "  </thead>\n",
       "  <tbody>\n",
       "    <tr>\n",
       "      <th>0</th>\n",
       "      <td>580489</td>\n",
       "      <td>en</td>\n",
       "      <td>Venom: Let There Be Carnage</td>\n",
       "      <td>8222.616</td>\n",
       "      <td>2021-09-30</td>\n",
       "      <td>7.0</td>\n",
       "      <td>828</td>\n",
       "      <td>['Science Fiction', 'Action']</td>\n",
       "    </tr>\n",
       "    <tr>\n",
       "      <th>1</th>\n",
       "      <td>335983</td>\n",
       "      <td>en</td>\n",
       "      <td>Venom</td>\n",
       "      <td>3012.242</td>\n",
       "      <td>2018-09-28</td>\n",
       "      <td>6.8</td>\n",
       "      <td>11846</td>\n",
       "      <td>['Science Fiction', 'Action']</td>\n",
       "    </tr>\n",
       "    <tr>\n",
       "      <th>2</th>\n",
       "      <td>550988</td>\n",
       "      <td>en</td>\n",
       "      <td>Free Guy</td>\n",
       "      <td>3864.616</td>\n",
       "      <td>2021-08-11</td>\n",
       "      <td>7.8</td>\n",
       "      <td>2908</td>\n",
       "      <td>['Comedy', 'Action', 'Adventure', 'Science Fic...</td>\n",
       "    </tr>\n",
       "    <tr>\n",
       "      <th>3</th>\n",
       "      <td>772436</td>\n",
       "      <td>es</td>\n",
       "      <td>Matando Cabos 2, La Máscara del Máscara</td>\n",
       "      <td>2556.789</td>\n",
       "      <td>2021-10-01</td>\n",
       "      <td>7.7</td>\n",
       "      <td>34</td>\n",
       "      <td>['Action', 'Comedy', 'Adventure']</td>\n",
       "    </tr>\n",
       "    <tr>\n",
       "      <th>4</th>\n",
       "      <td>568620</td>\n",
       "      <td>en</td>\n",
       "      <td>Snake Eyes: G.I. Joe Origins</td>\n",
       "      <td>2164.071</td>\n",
       "      <td>2021-07-22</td>\n",
       "      <td>6.9</td>\n",
       "      <td>685</td>\n",
       "      <td>['Action', 'Adventure']</td>\n",
       "    </tr>\n",
       "    <tr>\n",
       "      <th>...</th>\n",
       "      <td>...</td>\n",
       "      <td>...</td>\n",
       "      <td>...</td>\n",
       "      <td>...</td>\n",
       "      <td>...</td>\n",
       "      <td>...</td>\n",
       "      <td>...</td>\n",
       "      <td>...</td>\n",
       "    </tr>\n",
       "    <tr>\n",
       "      <th>9995</th>\n",
       "      <td>34653</td>\n",
       "      <td>en</td>\n",
       "      <td>A Single Man</td>\n",
       "      <td>11.647</td>\n",
       "      <td>2009-10-19</td>\n",
       "      <td>7.3</td>\n",
       "      <td>1209</td>\n",
       "      <td>['Romance', 'Drama']</td>\n",
       "    </tr>\n",
       "    <tr>\n",
       "      <th>9996</th>\n",
       "      <td>33518</td>\n",
       "      <td>en</td>\n",
       "      <td>Alligator</td>\n",
       "      <td>9.894</td>\n",
       "      <td>1980-07-02</td>\n",
       "      <td>5.8</td>\n",
       "      <td>182</td>\n",
       "      <td>['Horror', 'Science Fiction', 'Thriller']</td>\n",
       "    </tr>\n",
       "    <tr>\n",
       "      <th>9997</th>\n",
       "      <td>26320</td>\n",
       "      <td>en</td>\n",
       "      <td>Taking Woodstock</td>\n",
       "      <td>9.197</td>\n",
       "      <td>2009-08-26</td>\n",
       "      <td>6.2</td>\n",
       "      <td>321</td>\n",
       "      <td>['Music', 'Comedy', 'Drama']</td>\n",
       "    </tr>\n",
       "    <tr>\n",
       "      <th>9998</th>\n",
       "      <td>287318</td>\n",
       "      <td>en</td>\n",
       "      <td>3 Scream Queens</td>\n",
       "      <td>7.350</td>\n",
       "      <td>2014-11-25</td>\n",
       "      <td>5.2</td>\n",
       "      <td>5</td>\n",
       "      <td>['Horror']</td>\n",
       "    </tr>\n",
       "    <tr>\n",
       "      <th>9999</th>\n",
       "      <td>66664</td>\n",
       "      <td>it</td>\n",
       "      <td>Terminator II</td>\n",
       "      <td>9.624</td>\n",
       "      <td>1989-08-22</td>\n",
       "      <td>4.9</td>\n",
       "      <td>31</td>\n",
       "      <td>['Action', 'Science Fiction', 'Horror']</td>\n",
       "    </tr>\n",
       "  </tbody>\n",
       "</table>\n",
       "<p>10000 rows × 8 columns</p>\n",
       "</div>"
      ],
      "text/plain": [
       "          id original_language                           original_title  \\\n",
       "0     580489                en              Venom: Let There Be Carnage   \n",
       "1     335983                en                                    Venom   \n",
       "2     550988                en                                 Free Guy   \n",
       "3     772436                es  Matando Cabos 2, La Máscara del Máscara   \n",
       "4     568620                en             Snake Eyes: G.I. Joe Origins   \n",
       "...      ...               ...                                      ...   \n",
       "9995   34653                en                             A Single Man   \n",
       "9996   33518                en                                Alligator   \n",
       "9997   26320                en                         Taking Woodstock   \n",
       "9998  287318                en                          3 Scream Queens   \n",
       "9999   66664                it                            Terminator II   \n",
       "\n",
       "      popularity release_date  vote_average  vote_count  \\\n",
       "0       8222.616   2021-09-30           7.0         828   \n",
       "1       3012.242   2018-09-28           6.8       11846   \n",
       "2       3864.616   2021-08-11           7.8        2908   \n",
       "3       2556.789   2021-10-01           7.7          34   \n",
       "4       2164.071   2021-07-22           6.9         685   \n",
       "...          ...          ...           ...         ...   \n",
       "9995      11.647   2009-10-19           7.3        1209   \n",
       "9996       9.894   1980-07-02           5.8         182   \n",
       "9997       9.197   2009-08-26           6.2         321   \n",
       "9998       7.350   2014-11-25           5.2           5   \n",
       "9999       9.624   1989-08-22           4.9          31   \n",
       "\n",
       "                                                  genre  \n",
       "0                         ['Science Fiction', 'Action']  \n",
       "1                         ['Science Fiction', 'Action']  \n",
       "2     ['Comedy', 'Action', 'Adventure', 'Science Fic...  \n",
       "3                     ['Action', 'Comedy', 'Adventure']  \n",
       "4                               ['Action', 'Adventure']  \n",
       "...                                                 ...  \n",
       "9995                               ['Romance', 'Drama']  \n",
       "9996          ['Horror', 'Science Fiction', 'Thriller']  \n",
       "9997                       ['Music', 'Comedy', 'Drama']  \n",
       "9998                                         ['Horror']  \n",
       "9999            ['Action', 'Science Fiction', 'Horror']  \n",
       "\n",
       "[10000 rows x 8 columns]"
      ]
     },
     "execution_count": 5,
     "metadata": {},
     "output_type": "execute_result"
    }
   ],
   "source": [
    "mov_df"
   ]
  },
  {
   "cell_type": "markdown",
   "id": "dd6aff25",
   "metadata": {},
   "source": [
    "###### Displays the amount of film entries, based on language code, limited to the top 5."
   ]
  },
  {
   "cell_type": "code",
   "execution_count": 6,
   "id": "86e914e1",
   "metadata": {
    "scrolled": true
   },
   "outputs": [
    {
     "data": {
      "text/plain": [
       "en    7761\n",
       "ja     594\n",
       "es     460\n",
       "fr     298\n",
       "ko     154\n",
       "Name: original_language, dtype: int64"
      ]
     },
     "execution_count": 6,
     "metadata": {},
     "output_type": "execute_result"
    }
   ],
   "source": [
    "mov_df[\"original_language\"].value_counts().head()"
   ]
  },
  {
   "cell_type": "markdown",
   "id": "ef636250",
   "metadata": {},
   "source": [
    "###### Displays the amount of film entries, based on language code, limited to the bottom 5."
   ]
  },
  {
   "cell_type": "code",
   "execution_count": 7,
   "id": "132630cd",
   "metadata": {
    "scrolled": true
   },
   "outputs": [
    {
     "data": {
      "text/plain": [
       "la    1\n",
       "uk    1\n",
       "ca    1\n",
       "bn    1\n",
       "ku    1\n",
       "Name: original_language, dtype: int64"
      ]
     },
     "execution_count": 7,
     "metadata": {},
     "output_type": "execute_result"
    }
   ],
   "source": [
    "mov_df[\"original_language\"].value_counts().tail()"
   ]
  },
  {
   "cell_type": "markdown",
   "id": "f359a9d5",
   "metadata": {},
   "source": [
    "###### Displays the amount of film entries which share the same name. "
   ]
  },
  {
   "cell_type": "code",
   "execution_count": 8,
   "id": "a4b0fe36",
   "metadata": {
    "scrolled": true
   },
   "outputs": [
    {
     "data": {
      "text/plain": [
       "Venom                  5\n",
       "Les Misérables         3\n",
       "The Little Mermaid     3\n",
       "Carrie                 3\n",
       "Porno                  3\n",
       "                      ..\n",
       "All My Life            1\n",
       "Extraterrestre         1\n",
       "American Hustle        1\n",
       "Blood of Redemption    1\n",
       "Terminator II          1\n",
       "Name: original_title, Length: 9768, dtype: int64"
      ]
     },
     "execution_count": 8,
     "metadata": {},
     "output_type": "execute_result"
    }
   ],
   "source": [
    "mov_df[\"original_title\"].value_counts()"
   ]
  },
  {
   "cell_type": "markdown",
   "id": "a2c66f55",
   "metadata": {},
   "source": [
    "###### Displays the value counts for the top five and bottom five \"release_date\" values. "
   ]
  },
  {
   "cell_type": "code",
   "execution_count": 9,
   "id": "346698c4",
   "metadata": {
    "scrolled": true
   },
   "outputs": [
    {
     "data": {
      "text/plain": [
       "2021-10-21    39\n",
       "2021-10-15    25\n",
       "2021-10-20    24\n",
       "2021-10-08    20\n",
       "2021-10-22    17\n",
       "              ..\n",
       "2000-10-17     1\n",
       "2000-03-02     1\n",
       "2008-09-30     1\n",
       "2016-05-19     1\n",
       "1989-08-22     1\n",
       "Name: release_date, Length: 5668, dtype: int64"
      ]
     },
     "execution_count": 9,
     "metadata": {},
     "output_type": "execute_result"
    }
   ],
   "source": [
    "mov_df[\"release_date\"].value_counts()"
   ]
  },
  {
   "cell_type": "markdown",
   "id": "917be7d1",
   "metadata": {},
   "source": [
    "###### Displays the value counts for the top 5 and bottom 5 film genres. "
   ]
  },
  {
   "cell_type": "code",
   "execution_count": 10,
   "id": "53fdbc2e",
   "metadata": {},
   "outputs": [
    {
     "data": {
      "text/plain": [
       "['Drama']                                                               521\n",
       "['Comedy']                                                              456\n",
       "['Horror']                                                              264\n",
       "['Documentary']                                                         228\n",
       "['Horror', 'Thriller']                                                  218\n",
       "                                                                       ... \n",
       "['Action', 'Adventure', 'Fantasy', 'TV Movie']                            1\n",
       "['Animation', 'Family', 'Fantasy', 'Adventure', 'Comedy', 'Romance']      1\n",
       "['Adventure', 'Horror', 'Comedy']                                         1\n",
       "['Comedy', 'Adventure', 'Fantasy', 'Animation', 'Family']                 1\n",
       "['Comedy', 'Romance', 'TV Movie', 'Drama']                                1\n",
       "Name: genre, Length: 2303, dtype: int64"
      ]
     },
     "execution_count": 10,
     "metadata": {},
     "output_type": "execute_result"
    }
   ],
   "source": [
    "mov_df[\"genre\"].value_counts()"
   ]
  },
  {
   "cell_type": "markdown",
   "id": "ef1ab766",
   "metadata": {},
   "source": [
    "###### Displays the value counts for top five and bottom five \"popularity\" values. "
   ]
  },
  {
   "cell_type": "code",
   "execution_count": 11,
   "id": "515b286b",
   "metadata": {
    "scrolled": true
   },
   "outputs": [
    {
     "data": {
      "text/plain": [
       "12.132    5\n",
       "15.505    5\n",
       "14.760    5\n",
       "13.554    5\n",
       "14.737    4\n",
       "         ..\n",
       "24.472    1\n",
       "21.419    1\n",
       "20.309    1\n",
       "26.206    1\n",
       "9.624     1\n",
       "Name: popularity, Length: 8430, dtype: int64"
      ]
     },
     "execution_count": 11,
     "metadata": {},
     "output_type": "execute_result"
    }
   ],
   "source": [
    "mov_df[\"popularity\"].value_counts()"
   ]
  },
  {
   "cell_type": "markdown",
   "id": "7a3f1520",
   "metadata": {},
   "source": [
    "###### Displays the value counts for the top five and bottom five \"vote average\" values. "
   ]
  },
  {
   "cell_type": "code",
   "execution_count": 12,
   "id": "1fae2bb4",
   "metadata": {
    "scrolled": true
   },
   "outputs": [
    {
     "data": {
      "text/plain": [
       "6.7    426\n",
       "6.5    420\n",
       "6.3    418\n",
       "6.4    414\n",
       "6.8    411\n",
       "      ... \n",
       "9.2      2\n",
       "3.1      2\n",
       "1.0      1\n",
       "2.9      1\n",
       "0.5      1\n",
       "Name: vote_average, Length: 74, dtype: int64"
      ]
     },
     "execution_count": 12,
     "metadata": {},
     "output_type": "execute_result"
    }
   ],
   "source": [
    "mov_df[\"vote_average\"].value_counts()"
   ]
  },
  {
   "cell_type": "markdown",
   "id": "b2b8f9aa",
   "metadata": {},
   "source": [
    "###### Displays the value counts for the top five and bottom five \"value count\" values. "
   ]
  },
  {
   "cell_type": "code",
   "execution_count": 13,
   "id": "1318132a",
   "metadata": {
    "scrolled": true
   },
   "outputs": [
    {
     "data": {
      "text/plain": [
       "0       283\n",
       "1       101\n",
       "2        83\n",
       "4        61\n",
       "3        60\n",
       "       ... \n",
       "9493      1\n",
       "5688      1\n",
       "2598      1\n",
       "2064      1\n",
       "321       1\n",
       "Name: vote_count, Length: 3173, dtype: int64"
      ]
     },
     "execution_count": 13,
     "metadata": {},
     "output_type": "execute_result"
    }
   ],
   "source": [
    "mov_df[\"vote_count\"].value_counts()"
   ]
  },
  {
   "cell_type": "markdown",
   "id": "ce0d44a2",
   "metadata": {},
   "source": [
    "###### Displays the dataset that is sorted by the \"vote_average\" column, displaying the top first five entries and bottom last five entries. * Note: These are the most highly and least highly averaged films."
   ]
  },
  {
   "cell_type": "code",
   "execution_count": 14,
   "id": "a7d3d837",
   "metadata": {},
   "outputs": [
    {
     "data": {
      "text/html": [
       "<div>\n",
       "<style scoped>\n",
       "    .dataframe tbody tr th:only-of-type {\n",
       "        vertical-align: middle;\n",
       "    }\n",
       "\n",
       "    .dataframe tbody tr th {\n",
       "        vertical-align: top;\n",
       "    }\n",
       "\n",
       "    .dataframe thead th {\n",
       "        text-align: right;\n",
       "    }\n",
       "</style>\n",
       "<table border=\"1\" class=\"dataframe\">\n",
       "  <thead>\n",
       "    <tr style=\"text-align: right;\">\n",
       "      <th></th>\n",
       "      <th>id</th>\n",
       "      <th>original_language</th>\n",
       "      <th>original_title</th>\n",
       "      <th>popularity</th>\n",
       "      <th>release_date</th>\n",
       "      <th>vote_average</th>\n",
       "      <th>vote_count</th>\n",
       "      <th>genre</th>\n",
       "    </tr>\n",
       "  </thead>\n",
       "  <tbody>\n",
       "    <tr>\n",
       "      <th>505</th>\n",
       "      <td>875828</td>\n",
       "      <td>en</td>\n",
       "      <td>Untitled Peaky Blinders Film</td>\n",
       "      <td>98.046</td>\n",
       "      <td>NaN</td>\n",
       "      <td>10.0</td>\n",
       "      <td>2</td>\n",
       "      <td>[]</td>\n",
       "    </tr>\n",
       "    <tr>\n",
       "      <th>8141</th>\n",
       "      <td>843141</td>\n",
       "      <td>en</td>\n",
       "      <td>Pokémon Live!</td>\n",
       "      <td>9.502</td>\n",
       "      <td>2016-09-24</td>\n",
       "      <td>10.0</td>\n",
       "      <td>1</td>\n",
       "      <td>['Music', 'Comedy']</td>\n",
       "    </tr>\n",
       "    <tr>\n",
       "      <th>9732</th>\n",
       "      <td>514466</td>\n",
       "      <td>fi</td>\n",
       "      <td>Supercool</td>\n",
       "      <td>5.907</td>\n",
       "      <td>2021-07-02</td>\n",
       "      <td>10.0</td>\n",
       "      <td>1</td>\n",
       "      <td>['Comedy', 'Action']</td>\n",
       "    </tr>\n",
       "    <tr>\n",
       "      <th>4964</th>\n",
       "      <td>794819</td>\n",
       "      <td>hi</td>\n",
       "      <td>रश्मि रॉकेट</td>\n",
       "      <td>13.048</td>\n",
       "      <td>2021-10-15</td>\n",
       "      <td>10.0</td>\n",
       "      <td>1</td>\n",
       "      <td>['Drama']</td>\n",
       "    </tr>\n",
       "    <tr>\n",
       "      <th>4354</th>\n",
       "      <td>584948</td>\n",
       "      <td>es</td>\n",
       "      <td>Eyes of Desire</td>\n",
       "      <td>15.329</td>\n",
       "      <td>1998-09-01</td>\n",
       "      <td>10.0</td>\n",
       "      <td>1</td>\n",
       "      <td>[]</td>\n",
       "    </tr>\n",
       "    <tr>\n",
       "      <th>...</th>\n",
       "      <td>...</td>\n",
       "      <td>...</td>\n",
       "      <td>...</td>\n",
       "      <td>...</td>\n",
       "      <td>...</td>\n",
       "      <td>...</td>\n",
       "      <td>...</td>\n",
       "      <td>...</td>\n",
       "    </tr>\n",
       "    <tr>\n",
       "      <th>3296</th>\n",
       "      <td>878863</td>\n",
       "      <td>en</td>\n",
       "      <td>A Second Chance</td>\n",
       "      <td>14.192</td>\n",
       "      <td>NaN</td>\n",
       "      <td>0.0</td>\n",
       "      <td>0</td>\n",
       "      <td>['Fantasy']</td>\n",
       "    </tr>\n",
       "    <tr>\n",
       "      <th>6852</th>\n",
       "      <td>504075</td>\n",
       "      <td>zh</td>\n",
       "      <td>战狼3</td>\n",
       "      <td>11.477</td>\n",
       "      <td>NaN</td>\n",
       "      <td>0.0</td>\n",
       "      <td>0</td>\n",
       "      <td>['Action', 'War']</td>\n",
       "    </tr>\n",
       "    <tr>\n",
       "      <th>3305</th>\n",
       "      <td>881460</td>\n",
       "      <td>en</td>\n",
       "      <td>Planet Dune</td>\n",
       "      <td>24.657</td>\n",
       "      <td>2021-10-29</td>\n",
       "      <td>0.0</td>\n",
       "      <td>0</td>\n",
       "      <td>['Horror', 'Adventure', 'Science Fiction']</td>\n",
       "    </tr>\n",
       "    <tr>\n",
       "      <th>6833</th>\n",
       "      <td>875104</td>\n",
       "      <td>zh</td>\n",
       "      <td>叶问宗师觉醒</td>\n",
       "      <td>11.785</td>\n",
       "      <td>2021-09-16</td>\n",
       "      <td>0.0</td>\n",
       "      <td>0</td>\n",
       "      <td>['Action']</td>\n",
       "    </tr>\n",
       "    <tr>\n",
       "      <th>5000</th>\n",
       "      <td>744333</td>\n",
       "      <td>fr</td>\n",
       "      <td>Bottled Songs 1-4</td>\n",
       "      <td>10.065</td>\n",
       "      <td>2021-10-17</td>\n",
       "      <td>0.0</td>\n",
       "      <td>0</td>\n",
       "      <td>['Documentary']</td>\n",
       "    </tr>\n",
       "  </tbody>\n",
       "</table>\n",
       "<p>10000 rows × 8 columns</p>\n",
       "</div>"
      ],
      "text/plain": [
       "          id original_language                original_title  popularity  \\\n",
       "505   875828                en  Untitled Peaky Blinders Film      98.046   \n",
       "8141  843141                en                 Pokémon Live!       9.502   \n",
       "9732  514466                fi                     Supercool       5.907   \n",
       "4964  794819                hi                   रश्मि रॉकेट      13.048   \n",
       "4354  584948                es                Eyes of Desire      15.329   \n",
       "...      ...               ...                           ...         ...   \n",
       "3296  878863                en               A Second Chance      14.192   \n",
       "6852  504075                zh                           战狼3      11.477   \n",
       "3305  881460                en                   Planet Dune      24.657   \n",
       "6833  875104                zh                        叶问宗师觉醒      11.785   \n",
       "5000  744333                fr             Bottled Songs 1-4      10.065   \n",
       "\n",
       "     release_date  vote_average  vote_count  \\\n",
       "505           NaN          10.0           2   \n",
       "8141   2016-09-24          10.0           1   \n",
       "9732   2021-07-02          10.0           1   \n",
       "4964   2021-10-15          10.0           1   \n",
       "4354   1998-09-01          10.0           1   \n",
       "...           ...           ...         ...   \n",
       "3296          NaN           0.0           0   \n",
       "6852          NaN           0.0           0   \n",
       "3305   2021-10-29           0.0           0   \n",
       "6833   2021-09-16           0.0           0   \n",
       "5000   2021-10-17           0.0           0   \n",
       "\n",
       "                                           genre  \n",
       "505                                           []  \n",
       "8141                         ['Music', 'Comedy']  \n",
       "9732                        ['Comedy', 'Action']  \n",
       "4964                                   ['Drama']  \n",
       "4354                                          []  \n",
       "...                                          ...  \n",
       "3296                                 ['Fantasy']  \n",
       "6852                           ['Action', 'War']  \n",
       "3305  ['Horror', 'Adventure', 'Science Fiction']  \n",
       "6833                                  ['Action']  \n",
       "5000                             ['Documentary']  \n",
       "\n",
       "[10000 rows x 8 columns]"
      ]
     },
     "execution_count": 14,
     "metadata": {},
     "output_type": "execute_result"
    }
   ],
   "source": [
    "mov_df.sort_values(by=\"vote_average\", ascending=False)"
   ]
  },
  {
   "cell_type": "markdown",
   "id": "46951ebb",
   "metadata": {},
   "source": [
    "###### Displays the dataset that is sorted by the \"vote_count\" column, displaying the top first five entries and bottom last five entries. * Note: These are the most voted and least voted films."
   ]
  },
  {
   "cell_type": "code",
   "execution_count": 15,
   "id": "acad8675",
   "metadata": {
    "scrolled": true
   },
   "outputs": [
    {
     "data": {
      "text/html": [
       "<div>\n",
       "<style scoped>\n",
       "    .dataframe tbody tr th:only-of-type {\n",
       "        vertical-align: middle;\n",
       "    }\n",
       "\n",
       "    .dataframe tbody tr th {\n",
       "        vertical-align: top;\n",
       "    }\n",
       "\n",
       "    .dataframe thead th {\n",
       "        text-align: right;\n",
       "    }\n",
       "</style>\n",
       "<table border=\"1\" class=\"dataframe\">\n",
       "  <thead>\n",
       "    <tr style=\"text-align: right;\">\n",
       "      <th></th>\n",
       "      <th>id</th>\n",
       "      <th>original_language</th>\n",
       "      <th>original_title</th>\n",
       "      <th>popularity</th>\n",
       "      <th>release_date</th>\n",
       "      <th>vote_average</th>\n",
       "      <th>vote_count</th>\n",
       "      <th>genre</th>\n",
       "    </tr>\n",
       "  </thead>\n",
       "  <tbody>\n",
       "    <tr>\n",
       "      <th>242</th>\n",
       "      <td>27205</td>\n",
       "      <td>en</td>\n",
       "      <td>Inception</td>\n",
       "      <td>145.171</td>\n",
       "      <td>2010-07-15</td>\n",
       "      <td>8.3</td>\n",
       "      <td>30043</td>\n",
       "      <td>['Action', 'Science Fiction', 'Adventure']</td>\n",
       "    </tr>\n",
       "    <tr>\n",
       "      <th>520</th>\n",
       "      <td>157336</td>\n",
       "      <td>en</td>\n",
       "      <td>Interstellar</td>\n",
       "      <td>93.800</td>\n",
       "      <td>2014-11-05</td>\n",
       "      <td>8.3</td>\n",
       "      <td>26858</td>\n",
       "      <td>['Adventure', 'Drama', 'Science Fiction']</td>\n",
       "    </tr>\n",
       "    <tr>\n",
       "      <th>1037</th>\n",
       "      <td>155</td>\n",
       "      <td>en</td>\n",
       "      <td>The Dark Knight</td>\n",
       "      <td>66.044</td>\n",
       "      <td>2008-07-14</td>\n",
       "      <td>8.5</td>\n",
       "      <td>26004</td>\n",
       "      <td>['Drama', 'Action', 'Crime', 'Thriller']</td>\n",
       "    </tr>\n",
       "    <tr>\n",
       "      <th>272</th>\n",
       "      <td>293660</td>\n",
       "      <td>en</td>\n",
       "      <td>Deadpool</td>\n",
       "      <td>144.346</td>\n",
       "      <td>2016-02-09</td>\n",
       "      <td>7.6</td>\n",
       "      <td>25636</td>\n",
       "      <td>['Action', 'Adventure', 'Comedy']</td>\n",
       "    </tr>\n",
       "    <tr>\n",
       "      <th>150</th>\n",
       "      <td>24428</td>\n",
       "      <td>en</td>\n",
       "      <td>The Avengers</td>\n",
       "      <td>213.541</td>\n",
       "      <td>2012-04-25</td>\n",
       "      <td>7.7</td>\n",
       "      <td>25524</td>\n",
       "      <td>['Science Fiction', 'Action', 'Adventure']</td>\n",
       "    </tr>\n",
       "    <tr>\n",
       "      <th>...</th>\n",
       "      <td>...</td>\n",
       "      <td>...</td>\n",
       "      <td>...</td>\n",
       "      <td>...</td>\n",
       "      <td>...</td>\n",
       "      <td>...</td>\n",
       "      <td>...</td>\n",
       "      <td>...</td>\n",
       "    </tr>\n",
       "    <tr>\n",
       "      <th>7231</th>\n",
       "      <td>724334</td>\n",
       "      <td>en</td>\n",
       "      <td>My Hero Academia</td>\n",
       "      <td>15.645</td>\n",
       "      <td>NaN</td>\n",
       "      <td>0.0</td>\n",
       "      <td>0</td>\n",
       "      <td>[]</td>\n",
       "    </tr>\n",
       "    <tr>\n",
       "      <th>7226</th>\n",
       "      <td>666123</td>\n",
       "      <td>id</td>\n",
       "      <td>Roh Mati Paksa</td>\n",
       "      <td>17.690</td>\n",
       "      <td>2021-10-21</td>\n",
       "      <td>0.0</td>\n",
       "      <td>0</td>\n",
       "      <td>['Horror']</td>\n",
       "    </tr>\n",
       "    <tr>\n",
       "      <th>7198</th>\n",
       "      <td>824551</td>\n",
       "      <td>en</td>\n",
       "      <td>Doraemon: The Collection Part I</td>\n",
       "      <td>11.400</td>\n",
       "      <td>1969-01-01</td>\n",
       "      <td>0.0</td>\n",
       "      <td>0</td>\n",
       "      <td>['Animation', 'Family']</td>\n",
       "    </tr>\n",
       "    <tr>\n",
       "      <th>7184</th>\n",
       "      <td>447277</td>\n",
       "      <td>en</td>\n",
       "      <td>The Little Mermaid</td>\n",
       "      <td>10.437</td>\n",
       "      <td>2023-05-26</td>\n",
       "      <td>0.0</td>\n",
       "      <td>0</td>\n",
       "      <td>['Adventure', 'Family', 'Fantasy', 'Romance']</td>\n",
       "    </tr>\n",
       "    <tr>\n",
       "      <th>5000</th>\n",
       "      <td>744333</td>\n",
       "      <td>fr</td>\n",
       "      <td>Bottled Songs 1-4</td>\n",
       "      <td>10.065</td>\n",
       "      <td>2021-10-17</td>\n",
       "      <td>0.0</td>\n",
       "      <td>0</td>\n",
       "      <td>['Documentary']</td>\n",
       "    </tr>\n",
       "  </tbody>\n",
       "</table>\n",
       "<p>10000 rows × 8 columns</p>\n",
       "</div>"
      ],
      "text/plain": [
       "          id original_language                   original_title  popularity  \\\n",
       "242    27205                en                        Inception     145.171   \n",
       "520   157336                en                     Interstellar      93.800   \n",
       "1037     155                en                  The Dark Knight      66.044   \n",
       "272   293660                en                         Deadpool     144.346   \n",
       "150    24428                en                     The Avengers     213.541   \n",
       "...      ...               ...                              ...         ...   \n",
       "7231  724334                en                 My Hero Academia      15.645   \n",
       "7226  666123                id                   Roh Mati Paksa      17.690   \n",
       "7198  824551                en  Doraemon: The Collection Part I      11.400   \n",
       "7184  447277                en               The Little Mermaid      10.437   \n",
       "5000  744333                fr                Bottled Songs 1-4      10.065   \n",
       "\n",
       "     release_date  vote_average  vote_count  \\\n",
       "242    2010-07-15           8.3       30043   \n",
       "520    2014-11-05           8.3       26858   \n",
       "1037   2008-07-14           8.5       26004   \n",
       "272    2016-02-09           7.6       25636   \n",
       "150    2012-04-25           7.7       25524   \n",
       "...           ...           ...         ...   \n",
       "7231          NaN           0.0           0   \n",
       "7226   2021-10-21           0.0           0   \n",
       "7198   1969-01-01           0.0           0   \n",
       "7184   2023-05-26           0.0           0   \n",
       "5000   2021-10-17           0.0           0   \n",
       "\n",
       "                                              genre  \n",
       "242      ['Action', 'Science Fiction', 'Adventure']  \n",
       "520       ['Adventure', 'Drama', 'Science Fiction']  \n",
       "1037       ['Drama', 'Action', 'Crime', 'Thriller']  \n",
       "272               ['Action', 'Adventure', 'Comedy']  \n",
       "150      ['Science Fiction', 'Action', 'Adventure']  \n",
       "...                                             ...  \n",
       "7231                                             []  \n",
       "7226                                     ['Horror']  \n",
       "7198                        ['Animation', 'Family']  \n",
       "7184  ['Adventure', 'Family', 'Fantasy', 'Romance']  \n",
       "5000                                ['Documentary']  \n",
       "\n",
       "[10000 rows x 8 columns]"
      ]
     },
     "execution_count": 15,
     "metadata": {},
     "output_type": "execute_result"
    }
   ],
   "source": [
    "mov_df.sort_values(by=\"vote_count\", ascending=False)"
   ]
  },
  {
   "cell_type": "markdown",
   "id": "ec07e05f",
   "metadata": {},
   "source": [
    "###### Displays the dataset that is sorted by the \"popularity\" column, displaying the top first five entries and bottom last five entries. * Note: These are the most popular and least popular films."
   ]
  },
  {
   "cell_type": "code",
   "execution_count": 16,
   "id": "750210cc",
   "metadata": {
    "scrolled": true
   },
   "outputs": [
    {
     "data": {
      "text/html": [
       "<div>\n",
       "<style scoped>\n",
       "    .dataframe tbody tr th:only-of-type {\n",
       "        vertical-align: middle;\n",
       "    }\n",
       "\n",
       "    .dataframe tbody tr th {\n",
       "        vertical-align: top;\n",
       "    }\n",
       "\n",
       "    .dataframe thead th {\n",
       "        text-align: right;\n",
       "    }\n",
       "</style>\n",
       "<table border=\"1\" class=\"dataframe\">\n",
       "  <thead>\n",
       "    <tr style=\"text-align: right;\">\n",
       "      <th></th>\n",
       "      <th>id</th>\n",
       "      <th>original_language</th>\n",
       "      <th>original_title</th>\n",
       "      <th>popularity</th>\n",
       "      <th>release_date</th>\n",
       "      <th>vote_average</th>\n",
       "      <th>vote_count</th>\n",
       "      <th>genre</th>\n",
       "    </tr>\n",
       "  </thead>\n",
       "  <tbody>\n",
       "    <tr>\n",
       "      <th>0</th>\n",
       "      <td>580489</td>\n",
       "      <td>en</td>\n",
       "      <td>Venom: Let There Be Carnage</td>\n",
       "      <td>8222.616</td>\n",
       "      <td>2021-09-30</td>\n",
       "      <td>7.0</td>\n",
       "      <td>828</td>\n",
       "      <td>['Science Fiction', 'Action']</td>\n",
       "    </tr>\n",
       "    <tr>\n",
       "      <th>2</th>\n",
       "      <td>550988</td>\n",
       "      <td>en</td>\n",
       "      <td>Free Guy</td>\n",
       "      <td>3864.616</td>\n",
       "      <td>2021-08-11</td>\n",
       "      <td>7.8</td>\n",
       "      <td>2908</td>\n",
       "      <td>['Comedy', 'Action', 'Adventure', 'Science Fic...</td>\n",
       "    </tr>\n",
       "    <tr>\n",
       "      <th>1</th>\n",
       "      <td>335983</td>\n",
       "      <td>en</td>\n",
       "      <td>Venom</td>\n",
       "      <td>3012.242</td>\n",
       "      <td>2018-09-28</td>\n",
       "      <td>6.8</td>\n",
       "      <td>11846</td>\n",
       "      <td>['Science Fiction', 'Action']</td>\n",
       "    </tr>\n",
       "    <tr>\n",
       "      <th>7</th>\n",
       "      <td>610253</td>\n",
       "      <td>en</td>\n",
       "      <td>Halloween Kills</td>\n",
       "      <td>2636.999</td>\n",
       "      <td>2021-10-14</td>\n",
       "      <td>7.5</td>\n",
       "      <td>447</td>\n",
       "      <td>['Horror', 'Thriller']</td>\n",
       "    </tr>\n",
       "    <tr>\n",
       "      <th>3</th>\n",
       "      <td>772436</td>\n",
       "      <td>es</td>\n",
       "      <td>Matando Cabos 2, La Máscara del Máscara</td>\n",
       "      <td>2556.789</td>\n",
       "      <td>2021-10-01</td>\n",
       "      <td>7.7</td>\n",
       "      <td>34</td>\n",
       "      <td>['Action', 'Comedy', 'Adventure']</td>\n",
       "    </tr>\n",
       "    <tr>\n",
       "      <th>...</th>\n",
       "      <td>...</td>\n",
       "      <td>...</td>\n",
       "      <td>...</td>\n",
       "      <td>...</td>\n",
       "      <td>...</td>\n",
       "      <td>...</td>\n",
       "      <td>...</td>\n",
       "      <td>...</td>\n",
       "    </tr>\n",
       "    <tr>\n",
       "      <th>9515</th>\n",
       "      <td>608499</td>\n",
       "      <td>en</td>\n",
       "      <td>Saint-Narcisse</td>\n",
       "      <td>6.034</td>\n",
       "      <td>2021-09-24</td>\n",
       "      <td>2.0</td>\n",
       "      <td>1</td>\n",
       "      <td>['Comedy', 'Drama', 'Romance']</td>\n",
       "    </tr>\n",
       "    <tr>\n",
       "      <th>9560</th>\n",
       "      <td>40933</td>\n",
       "      <td>es</td>\n",
       "      <td>El bolero de Raquel</td>\n",
       "      <td>6.004</td>\n",
       "      <td>1957-10-09</td>\n",
       "      <td>6.9</td>\n",
       "      <td>60</td>\n",
       "      <td>['Comedy']</td>\n",
       "    </tr>\n",
       "    <tr>\n",
       "      <th>9988</th>\n",
       "      <td>38310</td>\n",
       "      <td>it</td>\n",
       "      <td>I pompieri</td>\n",
       "      <td>5.945</td>\n",
       "      <td>1985-10-25</td>\n",
       "      <td>5.8</td>\n",
       "      <td>223</td>\n",
       "      <td>['Comedy']</td>\n",
       "    </tr>\n",
       "    <tr>\n",
       "      <th>9732</th>\n",
       "      <td>514466</td>\n",
       "      <td>fi</td>\n",
       "      <td>Supercool</td>\n",
       "      <td>5.907</td>\n",
       "      <td>2021-07-02</td>\n",
       "      <td>10.0</td>\n",
       "      <td>1</td>\n",
       "      <td>['Comedy', 'Action']</td>\n",
       "    </tr>\n",
       "    <tr>\n",
       "      <th>9854</th>\n",
       "      <td>26291</td>\n",
       "      <td>en</td>\n",
       "      <td>Shakes the Clown</td>\n",
       "      <td>5.840</td>\n",
       "      <td>1991-08-28</td>\n",
       "      <td>5.6</td>\n",
       "      <td>50</td>\n",
       "      <td>['Comedy', 'Crime']</td>\n",
       "    </tr>\n",
       "  </tbody>\n",
       "</table>\n",
       "<p>10000 rows × 8 columns</p>\n",
       "</div>"
      ],
      "text/plain": [
       "          id original_language                           original_title  \\\n",
       "0     580489                en              Venom: Let There Be Carnage   \n",
       "2     550988                en                                 Free Guy   \n",
       "1     335983                en                                    Venom   \n",
       "7     610253                en                          Halloween Kills   \n",
       "3     772436                es  Matando Cabos 2, La Máscara del Máscara   \n",
       "...      ...               ...                                      ...   \n",
       "9515  608499                en                           Saint-Narcisse   \n",
       "9560   40933                es                      El bolero de Raquel   \n",
       "9988   38310                it                               I pompieri   \n",
       "9732  514466                fi                                Supercool   \n",
       "9854   26291                en                         Shakes the Clown   \n",
       "\n",
       "      popularity release_date  vote_average  vote_count  \\\n",
       "0       8222.616   2021-09-30           7.0         828   \n",
       "2       3864.616   2021-08-11           7.8        2908   \n",
       "1       3012.242   2018-09-28           6.8       11846   \n",
       "7       2636.999   2021-10-14           7.5         447   \n",
       "3       2556.789   2021-10-01           7.7          34   \n",
       "...          ...          ...           ...         ...   \n",
       "9515       6.034   2021-09-24           2.0           1   \n",
       "9560       6.004   1957-10-09           6.9          60   \n",
       "9988       5.945   1985-10-25           5.8         223   \n",
       "9732       5.907   2021-07-02          10.0           1   \n",
       "9854       5.840   1991-08-28           5.6          50   \n",
       "\n",
       "                                                  genre  \n",
       "0                         ['Science Fiction', 'Action']  \n",
       "2     ['Comedy', 'Action', 'Adventure', 'Science Fic...  \n",
       "1                         ['Science Fiction', 'Action']  \n",
       "7                                ['Horror', 'Thriller']  \n",
       "3                     ['Action', 'Comedy', 'Adventure']  \n",
       "...                                                 ...  \n",
       "9515                     ['Comedy', 'Drama', 'Romance']  \n",
       "9560                                         ['Comedy']  \n",
       "9988                                         ['Comedy']  \n",
       "9732                               ['Comedy', 'Action']  \n",
       "9854                                ['Comedy', 'Crime']  \n",
       "\n",
       "[10000 rows x 8 columns]"
      ]
     },
     "execution_count": 16,
     "metadata": {},
     "output_type": "execute_result"
    }
   ],
   "source": [
    "mov_df.sort_values(by=\"popularity\", ascending=False)"
   ]
  },
  {
   "cell_type": "markdown",
   "id": "47d9d2b3",
   "metadata": {},
   "source": [
    "<!-- ###### Displays the dataset that is sorted by the \"popularity\" column, displaying the top 10 most popular films.  -->"
   ]
  },
  {
   "cell_type": "code",
   "execution_count": 17,
   "id": "a9d3c33b",
   "metadata": {},
   "outputs": [],
   "source": [
    "# mov_df.sort_values(by=\"popularity\", ascending=False).head(10)"
   ]
  },
  {
   "cell_type": "markdown",
   "id": "5732e903",
   "metadata": {},
   "source": [
    "###### Displays the correlation values between the numerical data columns of the dataset.  * Note: The \"id\" column can be ignored."
   ]
  },
  {
   "cell_type": "code",
   "execution_count": 18,
   "id": "75692569",
   "metadata": {
    "scrolled": false
   },
   "outputs": [
    {
     "data": {
      "text/html": [
       "<div>\n",
       "<style scoped>\n",
       "    .dataframe tbody tr th:only-of-type {\n",
       "        vertical-align: middle;\n",
       "    }\n",
       "\n",
       "    .dataframe tbody tr th {\n",
       "        vertical-align: top;\n",
       "    }\n",
       "\n",
       "    .dataframe thead th {\n",
       "        text-align: right;\n",
       "    }\n",
       "</style>\n",
       "<table border=\"1\" class=\"dataframe\">\n",
       "  <thead>\n",
       "    <tr style=\"text-align: right;\">\n",
       "      <th></th>\n",
       "      <th>id</th>\n",
       "      <th>popularity</th>\n",
       "      <th>vote_average</th>\n",
       "      <th>vote_count</th>\n",
       "    </tr>\n",
       "  </thead>\n",
       "  <tbody>\n",
       "    <tr>\n",
       "      <th>id</th>\n",
       "      <td>1.000000</td>\n",
       "      <td>0.121851</td>\n",
       "      <td>-0.247567</td>\n",
       "      <td>-0.237103</td>\n",
       "    </tr>\n",
       "    <tr>\n",
       "      <th>popularity</th>\n",
       "      <td>0.121851</td>\n",
       "      <td>1.000000</td>\n",
       "      <td>0.045352</td>\n",
       "      <td>0.088182</td>\n",
       "    </tr>\n",
       "    <tr>\n",
       "      <th>vote_average</th>\n",
       "      <td>-0.247567</td>\n",
       "      <td>0.045352</td>\n",
       "      <td>1.000000</td>\n",
       "      <td>0.240653</td>\n",
       "    </tr>\n",
       "    <tr>\n",
       "      <th>vote_count</th>\n",
       "      <td>-0.237103</td>\n",
       "      <td>0.088182</td>\n",
       "      <td>0.240653</td>\n",
       "      <td>1.000000</td>\n",
       "    </tr>\n",
       "  </tbody>\n",
       "</table>\n",
       "</div>"
      ],
      "text/plain": [
       "                    id  popularity  vote_average  vote_count\n",
       "id            1.000000    0.121851     -0.247567   -0.237103\n",
       "popularity    0.121851    1.000000      0.045352    0.088182\n",
       "vote_average -0.247567    0.045352      1.000000    0.240653\n",
       "vote_count   -0.237103    0.088182      0.240653    1.000000"
      ]
     },
     "execution_count": 18,
     "metadata": {},
     "output_type": "execute_result"
    }
   ],
   "source": [
    "mov_df.corr()"
   ]
  },
  {
   "cell_type": "markdown",
   "id": "f2cc465a",
   "metadata": {},
   "source": [
    "###### Displays the amount of unique genre names."
   ]
  },
  {
   "cell_type": "code",
   "execution_count": 19,
   "id": "dd5b0df6",
   "metadata": {
    "scrolled": true
   },
   "outputs": [
    {
     "name": "stdout",
     "output_type": "stream",
     "text": [
      "There are 65 unique genres.\n"
     ]
    }
   ],
   "source": [
    "num_of_genres = mov_df[\"genre\"].value_counts().nunique()\n",
    "\n",
    "print(f\"There are {num_of_genres} unique genres.\")"
   ]
  },
  {
   "cell_type": "markdown",
   "id": "323f889a",
   "metadata": {},
   "source": [
    "###### Displays the amount of unique film titles.  * Note: This further shows that several film entries had duplicate titles."
   ]
  },
  {
   "cell_type": "code",
   "execution_count": 20,
   "id": "471ba406",
   "metadata": {},
   "outputs": [
    {
     "name": "stdout",
     "output_type": "stream",
     "text": [
      "There are 9768 unique film titles.\n"
     ]
    }
   ],
   "source": [
    "num_of_titles = mov_df[\"original_title\"].nunique()\n",
    "\n",
    "print(f\"There are {num_of_titles} unique film titles.\")"
   ]
  },
  {
   "cell_type": "markdown",
   "id": "34d27284",
   "metadata": {},
   "source": [
    "###### Displays a histogram that indicates the distribution of vote averages from 0 to 10. * Note: A majority of film entries appear to have vote averages between 5 and 8. Additionally, a fair amount of film entries were given a vote average of 0, which may mean such films did not receive any votes."
   ]
  },
  {
   "cell_type": "code",
   "execution_count": 21,
   "id": "2e8ee63f",
   "metadata": {
    "scrolled": false
   },
   "outputs": [
    {
     "data": {
      "text/plain": [
       "<seaborn.axisgrid.FacetGrid at 0x129c8428ee0>"
      ]
     },
     "execution_count": 21,
     "metadata": {},
     "output_type": "execute_result"
    },
    {
     "data": {
      "image/png": "[encoded data removed]",
      "text/plain": [
       "<Figure size 360x360 with 1 Axes>"
      ]
     },
     "metadata": {
      "needs_background": "light"
     },
     "output_type": "display_data"
    }
   ],
   "source": [
    "sns.displot(data=mov_df, x=\"vote_average\", binwidth=0.5)"
   ]
  },
  {
   "cell_type": "markdown",
   "id": "1de40d15",
   "metadata": {},
   "source": [
    "###### Displays a scatterplot between the \"vote_average\" and \"vote_count\" columns. *Note: This graph clearly shows a positive correlation between vote count and vote average, within a clear boundary. This boundary is between vote average values of about 3 and to about 8.2. "
   ]
  },
  {
   "cell_type": "code",
   "execution_count": 22,
   "id": "a0a6e717",
   "metadata": {
    "scrolled": true
   },
   "outputs": [
    {
     "data": {
      "text/plain": [
       "<AxesSubplot:xlabel='vote_average', ylabel='vote_count'>"
      ]
     },
     "execution_count": 22,
     "metadata": {},
     "output_type": "execute_result"
    },
    {
     "data": {
      "image/png": "[encoded data removed]",
      "text/plain": [
       "<Figure size 432x288 with 1 Axes>"
      ]
     },
     "metadata": {
      "needs_background": "light"
     },
     "output_type": "display_data"
    }
   ],
   "source": [
    "sns.scatterplot(data=mov_df, x=\"vote_average\", y=\"vote_count\")"
   ]
  },
  {
   "cell_type": "markdown",
   "id": "6b03dfca",
   "metadata": {},
   "source": [
    "# Simple Recommender \n",
    "\n",
    "#### This section includes code that displays the most recommended (or least recommended) movies based on scores assigned to each movie in the dataset, given the following formula. * Note: This score is completely unrelated to the \"popularity\" column:\n",
    "\n",
    "###### Weighted Rating (WR) = (v/v + m * R) + (m/v + m * C)\n",
    "\n",
    "###### v = number of votes for the movie\n",
    "###### m = minimum votes required to to be listed in the chart\n",
    "###### R = average rating of the movie\n",
    "###### C = mean vote across the whole report\n",
    "\n",
    "# Source for this formula: https://www.datacamp.com/community/tutorials/recommender-systems-python"
   ]
  },
  {
   "cell_type": "code",
   "execution_count": 23,
   "id": "548aa3f0",
   "metadata": {},
   "outputs": [
    {
     "data": {
      "text/plain": [
       "6.30012"
      ]
     },
     "execution_count": 23,
     "metadata": {},
     "output_type": "execute_result"
    }
   ],
   "source": [
    "C = mov_df[\"vote_average\"].mean()\n",
    "C"
   ]
  },
  {
   "cell_type": "code",
   "execution_count": 24,
   "id": "1af39d5f",
   "metadata": {},
   "outputs": [
    {
     "data": {
      "text/plain": [
       "3416.2000000000007"
      ]
     },
     "execution_count": 24,
     "metadata": {},
     "output_type": "execute_result"
    }
   ],
   "source": [
    "m = mov_df[\"vote_count\"].quantile(0.90)\n",
    "m"
   ]
  },
  {
   "cell_type": "code",
   "execution_count": 25,
   "id": "94acd13e",
   "metadata": {},
   "outputs": [
    {
     "data": {
      "text/plain": [
       "(1000, 8)"
      ]
     },
     "execution_count": 25,
     "metadata": {},
     "output_type": "execute_result"
    }
   ],
   "source": [
    "mov_scored = mov_df.copy().loc[mov_df[\"vote_count\"] >= m]\n",
    "mov_scored.shape"
   ]
  },
  {
   "cell_type": "code",
   "execution_count": 26,
   "id": "8071eeda",
   "metadata": {},
   "outputs": [],
   "source": [
    "def weighted_rating(x, m=m, C=C):\n",
    "    v = x[\"vote_count\"]\n",
    "    R = x[\"vote_average\"]\n",
    "    # Calculation based on the IMDB formula\n",
    "    return (v/(v+m) * R) + (m/(m+v) * C)"
   ]
  },
  {
   "cell_type": "markdown",
   "id": "fd3cb8b7",
   "metadata": {},
   "source": [
    "###### Creation of a new dataframe, \"mov_scored\", that is based on a sub-data frame using the \"vote_count\" data which had a unique function, \"weighted_rating\", applied to it. * Note: This new dataframe is not influenced by the \"popularity\" column from the original \"mov_df\" dataframe."
   ]
  },
  {
   "cell_type": "code",
   "execution_count": 27,
   "id": "2f336f4b",
   "metadata": {},
   "outputs": [],
   "source": [
    "mov_scored[\"score\"] = mov_scored.apply(weighted_rating, axis=1)"
   ]
  },
  {
   "cell_type": "code",
   "execution_count": 28,
   "id": "dc3d9206",
   "metadata": {},
   "outputs": [],
   "source": [
    "mov_scored = mov_scored.sort_values(\"score\", ascending=False)"
   ]
  },
  {
   "cell_type": "markdown",
   "id": "0f9e7606",
   "metadata": {},
   "source": [
    "###### Top 10 films with the highest scores."
   ]
  },
  {
   "cell_type": "code",
   "execution_count": 29,
   "id": "909e22e8",
   "metadata": {
    "scrolled": true
   },
   "outputs": [
    {
     "data": {
      "text/html": [
       "<div>\n",
       "<style scoped>\n",
       "    .dataframe tbody tr th:only-of-type {\n",
       "        vertical-align: middle;\n",
       "    }\n",
       "\n",
       "    .dataframe tbody tr th {\n",
       "        vertical-align: top;\n",
       "    }\n",
       "\n",
       "    .dataframe thead th {\n",
       "        text-align: right;\n",
       "    }\n",
       "</style>\n",
       "<table border=\"1\" class=\"dataframe\">\n",
       "  <thead>\n",
       "    <tr style=\"text-align: right;\">\n",
       "      <th></th>\n",
       "      <th>original_title</th>\n",
       "      <th>vote_count</th>\n",
       "      <th>vote_average</th>\n",
       "      <th>score</th>\n",
       "    </tr>\n",
       "  </thead>\n",
       "  <tbody>\n",
       "    <tr>\n",
       "      <th>937</th>\n",
       "      <td>The Shawshank Redemption</td>\n",
       "      <td>19908</td>\n",
       "      <td>8.7</td>\n",
       "      <td>8.348499</td>\n",
       "    </tr>\n",
       "    <tr>\n",
       "      <th>777</th>\n",
       "      <td>The Godfather</td>\n",
       "      <td>14928</td>\n",
       "      <td>8.7</td>\n",
       "      <td>8.253076</td>\n",
       "    </tr>\n",
       "    <tr>\n",
       "      <th>1037</th>\n",
       "      <td>The Dark Knight</td>\n",
       "      <td>26004</td>\n",
       "      <td>8.5</td>\n",
       "      <td>8.244555</td>\n",
       "    </tr>\n",
       "    <tr>\n",
       "      <th>1333</th>\n",
       "      <td>Pulp Fiction</td>\n",
       "      <td>21922</td>\n",
       "      <td>8.5</td>\n",
       "      <td>8.203403</td>\n",
       "    </tr>\n",
       "    <tr>\n",
       "      <th>1374</th>\n",
       "      <td>Forrest Gump</td>\n",
       "      <td>21403</td>\n",
       "      <td>8.5</td>\n",
       "      <td>8.197201</td>\n",
       "    </tr>\n",
       "    <tr>\n",
       "      <th>636</th>\n",
       "      <td>The Lord of the Rings: The Return of the King</td>\n",
       "      <td>18429</td>\n",
       "      <td>8.5</td>\n",
       "      <td>8.155978</td>\n",
       "    </tr>\n",
       "    <tr>\n",
       "      <th>1217</th>\n",
       "      <td>Fight Club</td>\n",
       "      <td>22613</td>\n",
       "      <td>8.4</td>\n",
       "      <td>8.124401</td>\n",
       "    </tr>\n",
       "    <tr>\n",
       "      <th>242</th>\n",
       "      <td>Inception</td>\n",
       "      <td>30043</td>\n",
       "      <td>8.3</td>\n",
       "      <td>8.095811</td>\n",
       "    </tr>\n",
       "    <tr>\n",
       "      <th>602</th>\n",
       "      <td>The Lord of the Rings: The Fellowship of the Ring</td>\n",
       "      <td>19849</td>\n",
       "      <td>8.4</td>\n",
       "      <td>8.091659</td>\n",
       "    </tr>\n",
       "    <tr>\n",
       "      <th>1991</th>\n",
       "      <td>Schindler's List</td>\n",
       "      <td>11931</td>\n",
       "      <td>8.6</td>\n",
       "      <td>8.088060</td>\n",
       "    </tr>\n",
       "  </tbody>\n",
       "</table>\n",
       "</div>"
      ],
      "text/plain": [
       "                                         original_title  vote_count  \\\n",
       "937                            The Shawshank Redemption       19908   \n",
       "777                                       The Godfather       14928   \n",
       "1037                                    The Dark Knight       26004   \n",
       "1333                                       Pulp Fiction       21922   \n",
       "1374                                       Forrest Gump       21403   \n",
       "636       The Lord of the Rings: The Return of the King       18429   \n",
       "1217                                         Fight Club       22613   \n",
       "242                                           Inception       30043   \n",
       "602   The Lord of the Rings: The Fellowship of the Ring       19849   \n",
       "1991                                   Schindler's List       11931   \n",
       "\n",
       "      vote_average     score  \n",
       "937            8.7  8.348499  \n",
       "777            8.7  8.253076  \n",
       "1037           8.5  8.244555  \n",
       "1333           8.5  8.203403  \n",
       "1374           8.5  8.197201  \n",
       "636            8.5  8.155978  \n",
       "1217           8.4  8.124401  \n",
       "242            8.3  8.095811  \n",
       "602            8.4  8.091659  \n",
       "1991           8.6  8.088060  "
      ]
     },
     "execution_count": 29,
     "metadata": {},
     "output_type": "execute_result"
    }
   ],
   "source": [
    "mov_scored[[\"original_title\", \"vote_count\", \"vote_average\", \"score\"]].head(10)"
   ]
  },
  {
   "cell_type": "markdown",
   "id": "01836257",
   "metadata": {},
   "source": [
    "###### Bottom 10 films with the lowest scores. "
   ]
  },
  {
   "cell_type": "code",
   "execution_count": 30,
   "id": "846843f0",
   "metadata": {
    "scrolled": true
   },
   "outputs": [
    {
     "data": {
      "text/html": [
       "<div>\n",
       "<style scoped>\n",
       "    .dataframe tbody tr th:only-of-type {\n",
       "        vertical-align: middle;\n",
       "    }\n",
       "\n",
       "    .dataframe tbody tr th {\n",
       "        vertical-align: top;\n",
       "    }\n",
       "\n",
       "    .dataframe thead th {\n",
       "        text-align: right;\n",
       "    }\n",
       "</style>\n",
       "<table border=\"1\" class=\"dataframe\">\n",
       "  <thead>\n",
       "    <tr style=\"text-align: right;\">\n",
       "      <th></th>\n",
       "      <th>original_title</th>\n",
       "      <th>vote_count</th>\n",
       "      <th>vote_average</th>\n",
       "      <th>score</th>\n",
       "    </tr>\n",
       "  </thead>\n",
       "  <tbody>\n",
       "    <tr>\n",
       "      <th>1002</th>\n",
       "      <td>Ghostbusters</td>\n",
       "      <td>5166</td>\n",
       "      <td>5.4</td>\n",
       "      <td>5.758299</td>\n",
       "    </tr>\n",
       "    <tr>\n",
       "      <th>824</th>\n",
       "      <td>Jupiter Ascending</td>\n",
       "      <td>5639</td>\n",
       "      <td>5.4</td>\n",
       "      <td>5.739583</td>\n",
       "    </tr>\n",
       "    <tr>\n",
       "      <th>2841</th>\n",
       "      <td>Daredevil</td>\n",
       "      <td>3948</td>\n",
       "      <td>5.2</td>\n",
       "      <td>5.710338</td>\n",
       "    </tr>\n",
       "    <tr>\n",
       "      <th>1898</th>\n",
       "      <td>Assassin's Creed</td>\n",
       "      <td>6522</td>\n",
       "      <td>5.4</td>\n",
       "      <td>5.709411</td>\n",
       "    </tr>\n",
       "    <tr>\n",
       "      <th>848</th>\n",
       "      <td>A Good Day to Die Hard</td>\n",
       "      <td>5335</td>\n",
       "      <td>5.3</td>\n",
       "      <td>5.690416</td>\n",
       "    </tr>\n",
       "    <tr>\n",
       "      <th>1011</th>\n",
       "      <td>Independence Day: Resurgence</td>\n",
       "      <td>5027</td>\n",
       "      <td>5.2</td>\n",
       "      <td>5.645119</td>\n",
       "    </tr>\n",
       "    <tr>\n",
       "      <th>992</th>\n",
       "      <td>After Earth</td>\n",
       "      <td>5561</td>\n",
       "      <td>5.2</td>\n",
       "      <td>5.618642</td>\n",
       "    </tr>\n",
       "    <tr>\n",
       "      <th>432</th>\n",
       "      <td>Green Lantern</td>\n",
       "      <td>5874</td>\n",
       "      <td>5.2</td>\n",
       "      <td>5.604537</td>\n",
       "    </tr>\n",
       "    <tr>\n",
       "      <th>2763</th>\n",
       "      <td>Batman &amp; Robin</td>\n",
       "      <td>3863</td>\n",
       "      <td>4.3</td>\n",
       "      <td>5.238676</td>\n",
       "    </tr>\n",
       "    <tr>\n",
       "      <th>931</th>\n",
       "      <td>Fantastic Four</td>\n",
       "      <td>4919</td>\n",
       "      <td>4.4</td>\n",
       "      <td>5.178768</td>\n",
       "    </tr>\n",
       "  </tbody>\n",
       "</table>\n",
       "</div>"
      ],
      "text/plain": [
       "                    original_title  vote_count  vote_average     score\n",
       "1002                  Ghostbusters        5166           5.4  5.758299\n",
       "824              Jupiter Ascending        5639           5.4  5.739583\n",
       "2841                     Daredevil        3948           5.2  5.710338\n",
       "1898              Assassin's Creed        6522           5.4  5.709411\n",
       "848         A Good Day to Die Hard        5335           5.3  5.690416\n",
       "1011  Independence Day: Resurgence        5027           5.2  5.645119\n",
       "992                    After Earth        5561           5.2  5.618642\n",
       "432                  Green Lantern        5874           5.2  5.604537\n",
       "2763                Batman & Robin        3863           4.3  5.238676\n",
       "931                 Fantastic Four        4919           4.4  5.178768"
      ]
     },
     "execution_count": 30,
     "metadata": {},
     "output_type": "execute_result"
    }
   ],
   "source": [
    "mov_scored[[\"original_title\", \"vote_count\", \"vote_average\", \"score\"]].tail(10)"
   ]
  }
 ],
 "metadata": {
  "kernelspec": {
   "display_name": "Python 3",
   "language": "python",
   "name": "python3"
  },
  "language_info": {
   "codemirror_mode": {
    "name": "ipython",
    "version": 3
   },
   "file_extension": ".py",
   "mimetype": "text/x-python",
   "name": "python",
   "nbconvert_exporter": "python",
   "pygments_lexer": "ipython3",
   "version": "3.9.7"
  }
 },
 "nbformat": 4,
 "nbformat_minor": 5
}
